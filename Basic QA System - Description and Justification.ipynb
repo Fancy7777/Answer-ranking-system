{
 "cells": [
  {
   "cell_type": "markdown",
   "metadata": {},
   "source": [
    "# Load Data"
   ]
  },
  {
   "cell_type": "code",
   "execution_count": 1,
   "metadata": {
    "collapsed": true
   },
   "outputs": [],
   "source": [
    "# Load in the python script containing the same code as the load the data notebook\n",
    "%run loadData.py\n",
    "# now we can access train, dev, and test\n",
    "# along with trainSents, devSents testSents"
   ]
  },
  {
   "cell_type": "markdown",
   "metadata": {},
   "source": [
    "# Demo Data"
   ]
  },
  {
   "cell_type": "code",
   "execution_count": 2,
   "metadata": {
    "collapsed": false
   },
   "outputs": [
    {
     "data": {
      "text/plain": [
       "u'Phonograph records are generally described by their diameter in inches (12\", 10\", 7\"), the rotational speed in rpm at which they are played (16 2\\u20443, 33 1\\u20443, 45, 78), and their time capacity resulting from a combination of those parameters (LP \\u2013 long playing 33 1\\u20443 rpm, SP \\u2013 78 rpm single, EP \\u2013 12-inch single or extended play, 33 or 45 rpm); their reproductive quality or level of fidelity (high-fidelity, orthophonic, full-range, etc.), and the number of audio channels provided (mono, stereo, quad, etc.).'"
      ]
     },
     "execution_count": 2,
     "metadata": {},
     "output_type": "execute_result"
    }
   ],
   "source": [
    "trainSents[0][2]"
   ]
  },
  {
   "cell_type": "code",
   "execution_count": 3,
   "metadata": {
    "collapsed": false
   },
   "outputs": [
    {
     "data": {
      "text/plain": [
       "{u'answer': u'long playing',\n",
       " u'answer_sentence': 2,\n",
       " u'question': u'What does LP stand for when it comes to time capacity?'}"
      ]
     },
     "execution_count": 3,
     "metadata": {},
     "output_type": "execute_result"
    }
   ],
   "source": [
    "train[0][0]"
   ]
  },
  {
   "cell_type": "code",
   "execution_count": 4,
   "metadata": {
    "collapsed": true
   },
   "outputs": [],
   "source": [
    "documents = trainSents[0]\n",
    "questions = train[0]"
   ]
  },
  {
   "cell_type": "markdown",
   "metadata": {},
   "source": [
    "# Useful Imports"
   ]
  },
  {
   "cell_type": "code",
   "execution_count": 5,
   "metadata": {
    "collapsed": true
   },
   "outputs": [],
   "source": [
    "import pprint\n",
    "pp = pprint.PrettyPrinter(indent=4)"
   ]
  },
  {
   "cell_type": "markdown",
   "metadata": {},
   "source": [
    "# Shared Workflow Thoughts (dealing with .ipynb notebooks)\n",
    "\n",
    "Think with each feature we do below, create generalized functions that can be easily composed with easy names, split by type.\n",
    "\n",
    "Then create/use small demo template below using the locked document/questions above to get intuition, check sanity, iterate quickly, to help keep us all on the same page.\n",
    "\n",
    "This way we keep everything well contained/documented/explainable, will help with report writing.\n",
    "\n",
    "Then in separate notebook we do statistical valid/testing for error exploration/analysis, using generalized functions above - easily changeable/copyable.\n",
    "\n",
    "Finally put it all in a python file that will do full run. Write TODOs to illustrate next steps/improvements, that way can stay on top/track/improve upon easily."
   ]
  },
  {
   "cell_type": "markdown",
   "metadata": {},
   "source": [
    "# Sentence Retreival\n",
    "\n",
    "The first part of your basic QA system will use a bag-of-words (BOW) vector space model to identify the sentence in the Wikipedia article which is most likely to contain the answer to a question, using standard information retrieval techniques. Here the \"query\" is the question, the \"documents\" are actually sentences, and each Wikipedia article should be viewed as separate \"document collection\". You should apply various preprocessing steps appropriate to this situation, including term weighting; if you are at all uncertain about what choices to make, you should evaluate them using the dev data, and use the results to justify your choice in your report."
   ]
  },
  {
   "cell_type": "markdown",
   "metadata": {},
   "source": [
    "##### TODO\n",
    "\n",
    "* Improving tuning of preprocessing/lemmatize functions for use QA case"
   ]
  },
  {
   "cell_type": "code",
   "execution_count": 6,
   "metadata": {
    "collapsed": true
   },
   "outputs": [],
   "source": [
    "from sklearn.feature_extraction.text import TfidfVectorizer\n",
    "from sklearn.neighbors import NearestNeighbors"
   ]
  },
  {
   "cell_type": "code",
   "execution_count": 7,
   "metadata": {
    "collapsed": true
   },
   "outputs": [],
   "source": [
    "# Tuning functions\n",
    "\n",
    "import nltk\n",
    "from nltk.corpus import stopwords\n",
    "\n",
    "stop_words = set(stopwords.words('english'))\n",
    "\n",
    "# Follow lemmatize function from guide notebook: WSTA_N1B_preprocessing.ipynb\n",
    "lemmatizer = nltk.stem.wordnet.WordNetLemmatizer()\n",
    "\n",
    "def lemmatize(word):\n",
    "    lemma = lemmatizer.lemmatize(word,'v')\n",
    "    if lemma == word:\n",
    "        lemma = lemmatizer.lemmatize(word,'n')\n",
    "    return lemma"
   ]
  },
  {
   "cell_type": "code",
   "execution_count": 8,
   "metadata": {
    "collapsed": false
   },
   "outputs": [],
   "source": [
    "# Core functions\n",
    "\n",
    "def vectorize_documents(text_documents):\n",
    "\n",
    "    vectorizer = TfidfVectorizer(stop_words='english')\n",
    "    vector_documents = vectorizer.fit_transform(text_documents)\n",
    "    \n",
    "    return [vector_documents, vectorizer]\n",
    "\n",
    "def vectorize_query(vectorizer, text_query):\n",
    "    return vectorizer.transform([text_query])\n",
    "\n",
    "def process_neighbours(vector_documents):\n",
    "    \n",
    "    neighbours = NearestNeighbors(1, algorithm=\"brute\", metric=\"cosine\")\n",
    "    neighbours.fit(vector_documents)\n",
    "    \n",
    "    return neighbours\n",
    "\n",
    "def closest_document(neighbours, vector_query):\n",
    "\n",
    "    result = neighbours.kneighbors(vector_query, 1, return_distance=True)\n",
    "\n",
    "    result_index = result[1][0][0]\n",
    "    result_similarity = result[0][0][0]\n",
    "    \n",
    "    return [result_similarity, result_index]"
   ]
  },
  {
   "cell_type": "code",
   "execution_count": 9,
   "metadata": {
    "collapsed": true
   },
   "outputs": [],
   "source": [
    "# Demonstration function\n",
    "\n",
    "def demo_process_set(questions, documents):\n",
    "    \n",
    "    vector_documents, vectorizer = vectorize_documents(documents)\n",
    "    analyze = vectorizer.build_analyzer()\n",
    "    neighbours = process_neighbours(vector_documents)\n",
    "\n",
    "    print \"=\" * 20\n",
    "    print \"Vector documents shape: {0}\".format(vector_documents.shape)\n",
    "    print \"Actual documents length: {0}\".format(len(documents))\n",
    "    print \"=\" * 20, \"\\n\"\n",
    "    \n",
    "    for question in questions[10:10+3]:\n",
    "        \n",
    "        text_query = question[\"question\"]\n",
    "\n",
    "        print \"Text query:\\n\\n\\t{0}\\n\".format(text_query)\n",
    "\n",
    "        vector_query = vectorize_query(vectorizer, text_query)\n",
    "\n",
    "        print \"Vector query shape:\\n\\n\\t{0}\".format(vector_query.shape)\n",
    "\n",
    "        result_similarity, result_index  = closest_document(neighbours, vector_query)\n",
    "        \n",
    "        print\n",
    "\n",
    "        print \"Result:\\n\\n\\tSimilarity ({0}), Index ({1})\\n\".format(result_similarity, result_index)\n",
    "\n",
    "        print\n",
    "\n",
    "        print \"Query (text):\\n\\n\\t{0}\\n\".format(text_query)\n",
    "        print \"Document (text):\\n\\n\\t{0}\".format(documents[result_index].encode(\"utf-8\"))\n",
    "\n",
    "        print\n",
    "\n",
    "        print \"Query (vector text):\\n\"\n",
    "        pp.pprint(analyze(text_query))\n",
    "        print\n",
    "        \n",
    "        print \"Document (vector text): \\n\\n\"\n",
    "        pp.pprint(analyze(documents[result_index]))\n",
    "        \n",
    "        print \"\\n\", \"=\" * 20, \"\\n\""
   ]
  },
  {
   "cell_type": "code",
   "execution_count": 10,
   "metadata": {
    "collapsed": false
   },
   "outputs": [
    {
     "name": "stdout",
     "output_type": "stream",
     "text": [
      "====================\n",
      "Vector documents shape: (463, 2425)\n",
      "Actual documents length: 463\n",
      "==================== \n",
      "\n",
      "Text query:\n",
      "\n",
      "\tWhat was the original intent of the phonautograph?\n",
      "\n",
      "Vector query shape:\n",
      "\n",
      "\t(1, 2425)\n",
      "\n",
      "Result:\n",
      "\n",
      "\tSimilarity (0.72338690096), Index (9)\n",
      "\n",
      "\n",
      "Query (text):\n",
      "\n",
      "\tWhat was the original intent of the phonautograph?\n",
      "\n",
      "Document (text):\n",
      "\n",
      "\tThe phonautograph, patented by Léon Scott in 1857, used a vibrating diaphragm and stylus to graphically record sound waves as tracings on sheets of paper, purely for visual analysis and without any intent of playing them back.\n",
      "\n",
      "Query (vector text):\n",
      "\n",
      "[u'original', u'intent', u'phonautograph']\n",
      "\n",
      "Document (vector text): \n",
      "\n",
      "\n",
      "[   u'phonautograph',\n",
      "    u'patented',\n",
      "    u'l\\xe9on',\n",
      "    u'scott',\n",
      "    u'1857',\n",
      "    u'used',\n",
      "    u'vibrating',\n",
      "    u'diaphragm',\n",
      "    u'stylus',\n",
      "    u'graphically',\n",
      "    u'record',\n",
      "    u'sound',\n",
      "    u'waves',\n",
      "    u'tracings',\n",
      "    u'sheets',\n",
      "    u'paper',\n",
      "    u'purely',\n",
      "    u'visual',\n",
      "    u'analysis',\n",
      "    u'intent',\n",
      "    u'playing']\n",
      "\n",
      "==================== \n",
      "\n",
      "Text query:\n",
      "\n",
      "\tIn what years where phonautograms converted to audible sound?\n",
      "\n",
      "Vector query shape:\n",
      "\n",
      "\t(1, 2425)\n",
      "\n",
      "Result:\n",
      "\n",
      "\tSimilarity (0.608183037117), Index (10)\n",
      "\n",
      "\n",
      "Query (text):\n",
      "\n",
      "\tIn what years where phonautograms converted to audible sound?\n",
      "\n",
      "Document (text):\n",
      "\n",
      "\tIn the 2000s, these tracings were first scanned by audio engineers and digitally converted into audible sound.\n",
      "\n",
      "Query (vector text):\n",
      "\n",
      "[u'years', u'phonautograms', u'converted', u'audible', u'sound']\n",
      "\n",
      "Document (vector text): \n",
      "\n",
      "\n",
      "[   u'2000s',\n",
      "    u'tracings',\n",
      "    u'scanned',\n",
      "    u'audio',\n",
      "    u'engineers',\n",
      "    u'digitally',\n",
      "    u'converted',\n",
      "    u'audible',\n",
      "    u'sound']\n",
      "\n",
      "==================== \n",
      "\n",
      "Text query:\n",
      "\n",
      "\tWhat year were the earliest known recordings of sound?\n",
      "\n",
      "Vector query shape:\n",
      "\n",
      "\t(1, 2425)\n",
      "\n",
      "Result:\n",
      "\n",
      "\tSimilarity (0.60589739321), Index (12)\n",
      "\n",
      "\n",
      "Query (text):\n",
      "\n",
      "\tWhat year were the earliest known recordings of sound?\n",
      "\n",
      "Document (text):\n",
      "\n",
      "\tAlong with a tuning fork tone and unintelligible snippets recorded as early as 1857, these are the earliest known recordings of sound.\n",
      "\n",
      "Query (vector text):\n",
      "\n",
      "[u'year', u'earliest', u'known', u'recordings', u'sound']\n",
      "\n",
      "Document (vector text): \n",
      "\n",
      "\n",
      "[   u'tuning',\n",
      "    u'fork',\n",
      "    u'tone',\n",
      "    u'unintelligible',\n",
      "    u'snippets',\n",
      "    u'recorded',\n",
      "    u'early',\n",
      "    u'1857',\n",
      "    u'earliest',\n",
      "    u'known',\n",
      "    u'recordings',\n",
      "    u'sound']\n",
      "\n",
      "==================== \n",
      "\n"
     ]
    }
   ],
   "source": [
    "demo_process_set(questions, documents)"
   ]
  },
  {
   "cell_type": "markdown",
   "metadata": {},
   "source": [
    "# Entity Extraction"
   ]
  },
  {
   "cell_type": "markdown",
   "metadata": {},
   "source": [
    "The second main part of your basic QA system is an NER system. In this initial system you should have at least four\n",
    "answer types: PERSON, LOCATION, NUMBER, and OTHER. You should run the Stanford NER system over your\n",
    "sentences to extract people and location entities (Hint: make use of the \"tag_sents\" method in the NLTK interface to do\n",
    "this efficiently for multiple sentences in a single call, otherwise this will be very slow; you may also want to cache the\n",
    "entity information during development of your system, rather than calling Stanford NER for each run). Note that\n",
    "contiguous words tagged as the same type should be considered part of the same entity. ORGANIZATION entities\n",
    "extracted by the NER system should be considered OTHER. You should also extract and treat as OTHER any other\n",
    "non-sentence initial sequence of capitalized words not tagged by Stanford NER. Finally, you should label all numbers as\n",
    "NUMBER. In this process, you might notice errors related to your preprocessing (e.g. tokenization), errors which can be\n",
    "easily corrected should be addressed at this stage."
   ]
  },
  {
   "cell_type": "markdown",
   "metadata": {},
   "source": [
    "##### TODO\n",
    "\n",
    "* Finish NER Tagging \n",
    "* Test run stanford function on another machine (+ record times)"
   ]
  },
  {
   "cell_type": "code",
   "execution_count": 11,
   "metadata": {
    "collapsed": false
   },
   "outputs": [],
   "source": [
    "from nltk.tag import StanfordNERTagger\n",
    "from nltk.tokenize import word_tokenize\n",
    "\n",
    "# The required jar files : https://nlp.stanford.edu/software/CRF-NER.shtml#Download\n",
    "# It's 171mb so I've added to the gitignore\n",
    "# If you download it, and rename the folder name \"stanford\" in the main directory\n",
    "classifier = './stanford/classifiers/english.all.3class.distsim.crf.ser.gz'\n",
    "jar = './stanford/stanford-ner.jar'\n",
    "\n",
    "sTagger = StanfordNERTagger(classifier,jar)"
   ]
  },
  {
   "cell_type": "code",
   "execution_count": 12,
   "metadata": {
    "collapsed": false
   },
   "outputs": [
    {
     "name": "stdout",
     "output_type": "stream",
     "text": [
      "[[(u'There', u'O'), (u'were', u'O'), (u'three', u'O'), (u'geese', u'O'), (u',', u'O'), (u'Derek', u'PERSON'), (u',', u'O'), (u'Joshi', u'PERSON'), (u',', u'O'), (u'and', u'O'), (u'Alex', u'PERSON'), (u',', u'O'), (u'who', u'O'), (u'lived', u'O'), (u'in', u'O'), (u'Melbourne', u'LOCATION'), (u',', u'O'), (u'and', u'O'), (u'worked', u'O'), (u'at', u'O'), (u'Microsoft', u'ORGANIZATION')]]\n"
     ]
    }
   ],
   "source": [
    "#Quick test of Tagger\n",
    "text = \"There were three geese, Derek, Joshi, and Alex, who lived in Melbourne, and worked at Microsoft\"\n",
    "tokenizedText = word_tokenize(text)\n",
    "classifiedText = sTagger.tag_sents([tokenizedText])\n",
    "\n",
    "# Warning, it takes a little while ~ 5 seconds on my comp\n",
    "print(classifiedText)"
   ]
  },
  {
   "cell_type": "code",
   "execution_count": 13,
   "metadata": {
    "collapsed": true
   },
   "outputs": [],
   "source": [
    "import pickle # Useful for read / write of list file\n",
    "import os #Needed to check if file exists"
   ]
  },
  {
   "cell_type": "code",
   "execution_count": 14,
   "metadata": {
    "collapsed": false
   },
   "outputs": [],
   "source": [
    "# Lets store the stanford tagger output in a file\n",
    "# This function returns the tagging output of stanford for each dataset\n",
    "# with datasetName - 'train', 'dev', test' \n",
    "\n",
    "def getStanfordTagging(datasetName):\n",
    "    fnameTrain = './preCompTags/stanfordTaggedTrain.txt'\n",
    "    fnameDev = './preCompTags/stanfordTaggedDev.txt'\n",
    "    fnameTest = './preCompTags/stanfordTaggedTest.txt'\n",
    "    \n",
    "    theFilePath = ''\n",
    "    theSents = []\n",
    "    if (datasetName == 'train'):\n",
    "        theFilePath = fnameTrain\n",
    "        theSents = trainSents\n",
    "    elif (datasetName == 'dev'):\n",
    "        theFilePath = fnameDev\n",
    "        theSents = devSents\n",
    "    elif (datasetName == 'test'):\n",
    "        theFilePath = fnameTest\n",
    "        theSents = testSents\n",
    "    else :\n",
    "        raise ValueError('Incorrect datasetName: ' + datasetName + ', choose from - \"train\", \"dev\", \"test\" ') \n",
    "    if (os.path.exists(theFilePath)):\n",
    "        with open(theFilePath, \"rb\") as fp:\n",
    "            stanfordTags = pickle.load(fp)\n",
    "            return stanfordTags\n",
    "    \n",
    "    else :\n",
    "        #Need to create taggings!\n",
    "        taggedSentsList = []\n",
    "        for sents in theSents:\n",
    "            tokenisedSents = [word_tokenize(sent) for sent in sents]\n",
    "            classifiedSents = sTagger.tag_sents(tokenisedSents)\n",
    "            taggedSentsList.append(classifiedSents)\n",
    "        #And save them\n",
    "        with open(theFilePath, \"wb\") as fp: \n",
    "            pickle.dump(taggedSentsList, fp)\n",
    "        return taggedSentsList\n",
    "    "
   ]
  },
  {
   "cell_type": "code",
   "execution_count": 15,
   "metadata": {
    "collapsed": false
   },
   "outputs": [],
   "source": [
    "taggedTrain = getStanfordTagging('train')\n",
    "taggedDev = getStanfordTagging('dev')\n",
    "taggedTest = getStanfordTagging('test')"
   ]
  },
  {
   "cell_type": "code",
   "execution_count": 16,
   "metadata": {
    "collapsed": false
   },
   "outputs": [],
   "source": [
    "import re\n",
    "\n",
    "# Given a stanford tagged list, refines the list by:\n",
    "# Grouping all contiguous words with the same tag\n",
    "# Relabels Organisations as Other\n",
    "# Labels Number\n",
    "\n",
    "def refineWordTags(taggedWordList):\n",
    "    newWordTags = []\n",
    "    prevWord = ''\n",
    "    prevTag = taggedWordList[0][1] # Ie the first tag\n",
    "    for (word, tag) in taggedWordList:\n",
    "        if (tag == 'ORGANIZATION'):\n",
    "            tag = 'O'\n",
    "        if (tag == 'O'):\n",
    "            #Might be a number\n",
    "            if isNumber(word):\n",
    "                tag = 'NUMBER'\n",
    "        if (tag == prevTag):\n",
    "            prevWord += ' ' + word\n",
    "        else :\n",
    "            newWordTags.append((prevWord, prevTag))\n",
    "            prevWord = word\n",
    "            prevTag = tag\n",
    "    # Need to add the final ones\n",
    "    newWordTags.append((prevWord, prevTag))\n",
    "    return newWordTags\n",
    "        \n",
    "\n",
    "# Returns true if the word represents a number\n",
    "def isNumber(word):\n",
    "    pattern = \".?(\\d)+((,|.)(\\d)+)*\"\n",
    "    if re.match(pattern,word) :\n",
    "        return True\n",
    "    return False\n"
   ]
  },
  {
   "cell_type": "code",
   "execution_count": 17,
   "metadata": {
    "collapsed": false
   },
   "outputs": [
    {
     "name": "stdout",
     "output_type": "stream",
     "text": [
      "[(u'Raleigh', u'O'), (u'(', u'O'), (u'\\u02c8r\\u0251\\u02d0li', u'O'), (u';', u'O'), (u'RAH-lee', u'O'), (u')', u'O'), (u'is', u'O'), (u'the', u'O'), (u'capital', u'O'), (u'of', u'O'), (u'the', u'O'), (u'state', u'O'), (u'of', u'O'), (u'North', u'LOCATION'), (u'Carolina', u'LOCATION'), (u'as', u'O'), (u'well', u'O'), (u'as', u'O'), (u'the', u'O'), (u'seat', u'O'), (u'of', u'O'), (u'Wake', u'LOCATION'), (u'County', u'LOCATION'), (u'in', u'O'), (u'the', u'O'), (u'United', u'LOCATION'), (u'States', u'LOCATION'), (u'.', u'O')]\n",
      "\n",
      "[(u' Raleigh ( \\u02c8r\\u0251\\u02d0li ; RAH-lee ) is the capital of the state of', u'O'), (u'North Carolina', u'LOCATION'), (u'as well as the seat of', u'O'), (u'Wake County', u'LOCATION'), (u'in the', u'O'), (u'United States', u'LOCATION'), (u'.', u'O')]\n"
     ]
    }
   ],
   "source": [
    "# Small test:\n",
    "print (taggedTrain[1][0])\n",
    "print\n",
    "print refineWordTags(taggedTrain[1][0])"
   ]
  },
  {
   "cell_type": "code",
   "execution_count": 18,
   "metadata": {
    "collapsed": false
   },
   "outputs": [
    {
     "name": "stdout",
     "output_type": "stream",
     "text": [
      "True\n",
      "True\n",
      "True\n",
      "True\n",
      "False\n",
      "True\n",
      "False\n",
      "True\n"
     ]
    }
   ],
   "source": [
    "#Quick regex test:\n",
    "print isNumber('.25')\n",
    "print isNumber('123.123')\n",
    "print isNumber('163.2342.234  ')\n",
    "print isNumber('123,123,123.2  ')\n",
    "print isNumber('joshi')\n",
    "print isNumber('$123')\n",
    "print isNumber('four') # I guess ideally this should be true\n",
    "print isNumber('h123') # Should this be a number?"
   ]
  },
  {
   "cell_type": "markdown",
   "metadata": {},
   "source": [
    "# Answer Ranking"
   ]
  },
  {
   "cell_type": "markdown",
   "metadata": {
    "collapsed": true
   },
   "source": [
    "After you have extracted a set of entities from your sentence, you will rank them to choose the best answer. The ranking\n",
    "should be based on three factors. First, answers whose content words all appear in the question should be ranked\n",
    "lowest. Second, answers which match the question type should be ranked higher than those that don't; for this, you\n",
    "should build a simple rule-based question type classifier based on key words (e.g. questions which contain \"who\" are\n",
    "people). Third, among entities of the same type, the prefered entity should be the one which is closer in the sentence to a\n",
    "closed-class word from the question."
   ]
  },
  {
   "cell_type": "markdown",
   "metadata": {},
   "source": [
    "##### TODO\n",
    "\n",
    "* TODO"
   ]
  },
  {
   "cell_type": "code",
   "execution_count": 19,
   "metadata": {
    "collapsed": false
   },
   "outputs": [
    {
     "ename": "TypeError",
     "evalue": "vectorize_query() takes exactly 2 arguments (1 given)",
     "output_type": "error",
     "traceback": [
      "\u001b[0;31m---------------------------------------------------------------------------\u001b[0m",
      "\u001b[0;31mTypeError\u001b[0m                                 Traceback (most recent call last)",
      "\u001b[0;32m<ipython-input-19-dcb5a7c49fe9>\u001b[0m in \u001b[0;36m<module>\u001b[0;34m()\u001b[0m\n\u001b[0;32m----> 1\u001b[0;31m \u001b[0mvectorize_query\u001b[0m\u001b[0;34m(\u001b[0m\u001b[0;34m\"What is your name there son?\"\u001b[0m\u001b[0;34m)\u001b[0m\u001b[0;34m\u001b[0m\u001b[0m\n\u001b[0m",
      "\u001b[0;31mTypeError\u001b[0m: vectorize_query() takes exactly 2 arguments (1 given)"
     ]
    }
   ],
   "source": [
    "vectorize_query(\"What is your name there son?\")"
   ]
  },
  {
   "cell_type": "code",
   "execution_count": null,
   "metadata": {
    "collapsed": false
   },
   "outputs": [],
   "source": [
    "# Part A gives us a most likely sentence\n",
    "# Part B splits into entities\n",
    "\n",
    "\n",
    "# Given a question, returns a tag for the answer form\n",
    "# From PERSON, LOCATION, NUMBER, OTHER \n",
    "# Assuming question is lowercased\n",
    "def getQuestionType(question):\n",
    "    if 'who' in question:\n",
    "        return \"PERSON\"\n",
    "    if 'where' in question:\n",
    "        return \"LOCATION\"\n",
    "    return \"OTHER\""
   ]
  },
  {
   "cell_type": "code",
   "execution_count": null,
   "metadata": {
    "collapsed": true
   },
   "outputs": [],
   "source": []
  },
  {
   "cell_type": "code",
   "execution_count": null,
   "metadata": {
    "collapsed": true
   },
   "outputs": [],
   "source": []
  },
  {
   "cell_type": "markdown",
   "metadata": {},
   "source": [
    "## Evaluation \n",
    "I've added the evaluation here to save exporting the above functions\n"
   ]
  },
  {
   "cell_type": "markdown",
   "metadata": {},
   "source": [
    "## Sentence Retrival\n"
   ]
  },
  {
   "cell_type": "code",
   "execution_count": 47,
   "metadata": {
    "collapsed": false
   },
   "outputs": [],
   "source": [
    "# Where numToEval is max 360 for train\n",
    "def evaluateSentenceRetrival(questionsList,documentsList, numToEval):\n",
    "    numCorrect = 0\n",
    "    numWrong = 0\n",
    "    for i in range (0, numToEval):\n",
    "        documents = documentsList[i]\n",
    "        questions = questionsList[i]\n",
    "        \n",
    "        vector_documents, vectorizer = vectorize_documents(documents)\n",
    "        analyze = vectorizer.build_analyzer()\n",
    "        neighbours = process_neighbours(vector_documents)\n",
    "        \n",
    "        for j in range (0, len(questions)):\n",
    "            text_query = questions[j][\"question\"]\n",
    "            vector_query = vectorize_query(vectorizer, text_query)\n",
    "            result_similarity, result_index  = closest_document(neighbours, vector_query)\n",
    "            if result_index == int(questions[j][\"answer_sentence\"]):\n",
    "                numCorrect += 1\n",
    "            else :\n",
    "                numWrong += 1\n",
    "    return (numCorrect, numWrong)"
   ]
  },
  {
   "cell_type": "code",
   "execution_count": 48,
   "metadata": {
    "collapsed": false
   },
   "outputs": [
    {
     "data": {
      "text/plain": [
       "(905, 756)"
      ]
     },
     "execution_count": 48,
     "metadata": {},
     "output_type": "execute_result"
    }
   ],
   "source": [
    "evaluateSentenceRetrival(train, trainSents,10)"
   ]
  },
  {
   "cell_type": "code",
   "execution_count": null,
   "metadata": {
    "collapsed": true
   },
   "outputs": [],
   "source": []
  }
 ],
 "metadata": {
  "anaconda-cloud": {},
  "kernelspec": {
   "display_name": "Python 2",
   "language": "python",
   "name": "python2"
  },
  "language_info": {
   "codemirror_mode": {
    "name": "ipython",
    "version": 2
   },
   "file_extension": ".py",
   "mimetype": "text/x-python",
   "name": "python",
   "nbconvert_exporter": "python",
   "pygments_lexer": "ipython2",
   "version": "2.7.13"
  }
 },
 "nbformat": 4,
 "nbformat_minor": 2
}
