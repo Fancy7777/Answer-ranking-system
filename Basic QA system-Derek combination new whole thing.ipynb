{
 "cells": [
  {
   "cell_type": "code",
   "execution_count": 12,
   "metadata": {
    "collapsed": true
   },
   "outputs": [],
   "source": [
    "# Load in the python script containing the same code as the load the data notebook\n",
    "%run loadData.py\n",
    "# now we can access train, dev, and test\n",
    "# along with trainSents, devSents testSents"
   ]
  },
  {
   "cell_type": "code",
   "execution_count": 13,
   "metadata": {
    "collapsed": false
   },
   "outputs": [],
   "source": [
    "documents = testSents[0]\n",
    "questions = test[0]"
   ]
  },
  {
   "cell_type": "code",
   "execution_count": 33,
   "metadata": {
    "collapsed": false
   },
   "outputs": [
    {
     "name": "stdout",
     "output_type": "stream",
     "text": [
      "70159\n"
     ]
    }
   ],
   "source": [
    "length=0\n",
    "for ele in train:\n",
    "    length += len(ele)\n",
    "print length"
   ]
  },
  {
   "cell_type": "markdown",
   "metadata": {},
   "source": [
    "## Joshi part"
   ]
  },
  {
   "cell_type": "code",
   "execution_count": 14,
   "metadata": {
    "collapsed": true
   },
   "outputs": [],
   "source": [
    "from sklearn.feature_extraction.text import TfidfVectorizer\n",
    "from sklearn.neighbors import NearestNeighbors"
   ]
  },
  {
   "cell_type": "code",
   "execution_count": 15,
   "metadata": {
    "collapsed": true
   },
   "outputs": [],
   "source": [
    "# Tuning functions\n",
    "\n",
    "import nltk\n",
    "from nltk.corpus import stopwords\n",
    "\n",
    "stop_words = set(stopwords.words('english'))\n",
    "\n",
    "# Follow lemmatize function from guide notebook: WSTA_N1B_preprocessing.ipynb\n",
    "lemmatizer = nltk.stem.wordnet.WordNetLemmatizer()\n",
    "\n",
    "def lemmatize(word):\n",
    "    lemma = lemmatizer.lemmatize(word,'v')\n",
    "    if lemma == word:\n",
    "        lemma = lemmatizer.lemmatize(word,'n')\n",
    "    return lemma\n",
    "\n",
    "word_tokenizer = nltk.tokenize.WordPunctTokenizer() #word_tokenize #tokenize.regexp.WordPunctTokenizer()\n",
    "\n",
    "def pre_process(line):\n",
    "    tokenized_sentence = word_tokenizer.tokenize(line.lower())\n",
    "    lemmatized_sentence = [lemmatize(token) for token in tokenized_sentence]\n",
    "    return lemmatized_sentence"
   ]
  },
  {
   "cell_type": "code",
   "execution_count": 16,
   "metadata": {
    "collapsed": true
   },
   "outputs": [],
   "source": [
    "# Core functions\n",
    "\n",
    "def vectorize_documents(text_documents):\n",
    "\n",
    "    vectorizer = TfidfVectorizer(stop_words='english', tokenizer=pre_process)\n",
    "    vector_documents = vectorizer.fit_transform(text_documents)\n",
    "    \n",
    "    return [vector_documents, vectorizer]\n",
    "\n",
    "def vectorize_query(vectorizer, text_query):\n",
    "    return vectorizer.transform([text_query])\n",
    "\n",
    "def process_neighbours(vector_documents):\n",
    "    \n",
    "    neighbours = NearestNeighbors(1, algorithm=\"brute\", metric=\"cosine\")\n",
    "    neighbours.fit(vector_documents)\n",
    "    \n",
    "    return neighbours\n",
    "\n",
    "def closest_document(neighbours, vector_query):\n",
    "\n",
    "    result = neighbours.kneighbors(vector_query, 1, return_distance=True)\n",
    "\n",
    "    result_index = result[1][0][0]\n",
    "    result_distance = result[0][0][0]\n",
    "    \n",
    "    return [result_distance, result_index]"
   ]
  },
  {
   "cell_type": "code",
   "execution_count": 17,
   "metadata": {
    "collapsed": false
   },
   "outputs": [],
   "source": [
    "def generatePartAOutput(qs, sents):\n",
    "    # Output for part A\n",
    "    partAOutput = []\n",
    "    for i in range (0, len(qs)):\n",
    "        documents = sents[i]\n",
    "        questions = qs[i]\n",
    "\n",
    "        vector_documents, vectorizer = vectorize_documents(documents)\n",
    "        analyze = vectorizer.build_analyzer()\n",
    "        neighbours = process_neighbours(vector_documents)\n",
    "\n",
    "        for j in range (0, len(questions)):\n",
    "            text_query = questions[j][\"question\"]\n",
    "            vector_query = vectorize_query(vectorizer, text_query)\n",
    "            result_similarity, result_index  = closest_document(neighbours, vector_query)\n",
    "            partAOutput.append((i,j,result_index))\n",
    "    return partAOutput\n",
    "\n",
    "partADevAnswers = generatePartAOutput(dev, devSents)\n",
    "partATestAnswers = generatePartAOutput(test, testSents)"
   ]
  },
  {
   "cell_type": "markdown",
   "metadata": {},
   "source": [
    "## Alex part"
   ]
  },
  {
   "cell_type": "code",
   "execution_count": 18,
   "metadata": {
    "collapsed": false
   },
   "outputs": [],
   "source": [
    "from nltk.tag import StanfordNERTagger\n",
    "from nltk.tokenize import word_tokenize\n",
    "\n",
    "# The required jar files : https://nlp.stanford.edu/software/CRF-NER.shtml#Download\n",
    "# It's 171mb so I've added to the gitignore\n",
    "# If you download it, and rename the folder name \"stanford\" in the main directory\n",
    "classifier = './stanford/classifiers/english.all.3class.distsim.crf.ser.gz'\n",
    "jar = './stanford/stanford-ner.jar'\n",
    "\n",
    "sTagger = StanfordNERTagger(classifier,jar)"
   ]
  },
  {
   "cell_type": "code",
   "execution_count": 19,
   "metadata": {
    "collapsed": true
   },
   "outputs": [],
   "source": [
    "import pickle # Useful for read / write of list file\n",
    "import os #Needed to check if file exists"
   ]
  },
  {
   "cell_type": "code",
   "execution_count": 20,
   "metadata": {
    "collapsed": true
   },
   "outputs": [],
   "source": [
    "# Lets store the stanford tagger output in a file\n",
    "# This function returns the tagging output of stanford for each dataset\n",
    "# with datasetName - 'train', 'dev', test' \n",
    "\n",
    "def getStanfordTagging(datasetName):\n",
    "    fnameTrain = './preCompTags/stanfordTaggedTrain.txt'\n",
    "    fnameDev = './preCompTags/stanfordTaggedDev.txt'\n",
    "    fnameTest = './preCompTags/stanfordTaggedTest.txt'\n",
    "    \n",
    "    theFilePath = ''\n",
    "    theSents = []\n",
    "    if (datasetName == 'train'):\n",
    "        theFilePath = fnameTrain\n",
    "        theSents = trainSents\n",
    "    elif (datasetName == 'dev'):\n",
    "        theFilePath = fnameDev\n",
    "        theSents = devSents\n",
    "    elif (datasetName == 'test'):\n",
    "        theFilePath = fnameTest\n",
    "        theSents = testSents\n",
    "    else :\n",
    "        raise ValueError('Incorrect datasetName: ' + datasetName + ', choose from - \"train\", \"dev\", \"test\" ') \n",
    "    if (os.path.exists(theFilePath)):\n",
    "        with open(theFilePath, \"rb\") as fp:\n",
    "            stanfordTags = pickle.load(fp)\n",
    "            return stanfordTags\n",
    "    \n",
    "    else :\n",
    "        #Need to create taggings!\n",
    "        taggedSentsList = []\n",
    "        for sents in theSents:\n",
    "            tokenisedSents = [word_tokenize(sent) for sent in sents]\n",
    "            classifiedSents = sTagger.tag_sents(tokenisedSents)\n",
    "            taggedSentsList.append(classifiedSents)\n",
    "        #And save them\n",
    "        with open(theFilePath, \"wb\") as fp: \n",
    "            pickle.dump(taggedSentsList, fp)\n",
    "        return taggedSentsList\n",
    "    "
   ]
  },
  {
   "cell_type": "code",
   "execution_count": 21,
   "metadata": {
    "collapsed": true
   },
   "outputs": [],
   "source": [
    "taggedTrain = getStanfordTagging('train')\n",
    "taggedDev = getStanfordTagging('dev')\n",
    "taggedTest = getStanfordTagging('test')"
   ]
  },
  {
   "cell_type": "code",
   "execution_count": 22,
   "metadata": {
    "collapsed": true
   },
   "outputs": [],
   "source": [
    "import re\n",
    "from nltk.corpus import stopwords\n",
    "\n",
    "stop_words = set(stopwords.words('english'))\n",
    "\n",
    "\n",
    "# Given a stanford tagged list, refines the list by:\\n\",\n",
    "# Grouping all contiguous words with the same tag\\n\",\n",
    "# Relabels Organisations as Other\\n\",\n",
    "# Labels Number\\n\",\n",
    "def refineWordTags(taggedWordList):\n",
    "    newWordTags = []\n",
    "    for (word, tag) in taggedWordList:\n",
    "        if (tag == 'ORGANIZATION'):\n",
    "            tag = 'O'\n",
    "        if (tag == 'O'):\n",
    "            #Might be a number\n",
    "            if isNumber(word):\n",
    "                tag = 'NUMBER'\n",
    "            elif isCapitalised(word):\n",
    "                tag = 'OTHERCAP'\n",
    "            elif word in preUnits:\n",
    "                tag = 'PRENUM'\n",
    "            elif word in postUnits:\n",
    "                tag = 'POSTNUM'\n",
    "            elif isStopWord(word):\n",
    "                tag = 'STOPWORD'\n",
    "            elif isPunctuation(word):\n",
    "                tag = 'PUNC'\n",
    "\n",
    "        newWordTags.append((word, tag))\n",
    "    \n",
    "    newWordTags = combineTags (newWordTags)\n",
    "    return newWordTags\n",
    "        \n",
    "def combineTags(wordTags):\n",
    "    newTags = []\n",
    "    prevWord = wordTags[0][0]\n",
    "    prevTag = wordTags[0][1]\n",
    "    for (word, tag) in wordTags[1:]:\n",
    "        if tag == 'NUMBER' and prevTag == 'PRENUM':\n",
    "            prevTag = 'NUMBER'\n",
    "        elif prevTag == 'PRENUM':\n",
    "            prevTag = 'O'\n",
    "        if tag == 'POSTNUM' and prevTag == \"NUMBER\":\n",
    "            tag = \"NUMBER\"\n",
    "        elif tag == \"POSTNUM\":\n",
    "            tag = \"O\"\n",
    "        newTags.append((prevWord, prevTag))\n",
    "        prevWord = word\n",
    "        prevTag = tag\n",
    "    newTags.append((prevWord, prevTag))\n",
    "    \n",
    "    newNewTags = []\n",
    "    prevWord = newTags[0][0]\n",
    "    prevTag = newTags[0][1]\n",
    "    if (prevTag == \"OTHERCAP\"):\n",
    "        prevTag = \"O\"\n",
    "    for (word, tag) in wordTags[1:]:            \n",
    "        if tag == prevTag :\n",
    "            prevWord += ' ' + word\n",
    "        else :\n",
    "            newNewTags.append((prevWord, prevTag))\n",
    "            prevWord = word\n",
    "            prevTag = tag\n",
    "    newNewTags.append((prevWord, prevTag))\n",
    "    return newNewTags\n",
    "\n",
    "# Thanks for this list to save me typing it : http://stackoverflow.com/questions/493174/is-there-a-way-to-convert-number-words-to-integers\\n\",\n",
    "numInWords = [\"zero\", \"one\", \"two\", \"three\", \"four\", \"five\", \"six\", \"seven\", \"eight\",\n",
    "        \"nine\", \"ten\", \"eleven\", \"twelve\", \"thirteen\", \"fourteen\", \"fifteen\",\n",
    "        \"sixteen\", \"seventeen\", \"eighteen\", \"nineteen\", \"twenty\", \"thirty\", \"forty\", \"fifty\", \"sixty\", \"seventy\", \"eighty\", \"ninety\"\n",
    "       , \"hundred\", \"thousand\", \"million\", \"billion\", \"trillion\"]\n",
    "\n",
    "punctuation = ['.',',',';',':']\n",
    "\n",
    "def isPunctuation(word):\n",
    "    return word in punctuation\n",
    "def isCapitalised (word):\n",
    "    if len(word) == 0:\n",
    "        return False\n",
    "    return word[0].isupper()\n",
    "\n",
    "# Obtained from training data\n",
    "postUnits = [u'%', u'century', u'years', u'percent', u'years ago', u'days', u'months', u'km', u'hours', u'times', u'inches', u'\\xb0C', u'minutes', u'acres', u'\\xb0F', u'weeks', u'people', u'sq mi', u'mi', u'ft', u'feet', u'metres', u'mm', u'square miles', u'miles', u'pm', u'per cent', u'year', u'copies', u'yuan', u'men', u'square feet', u'third', u'kilometres', u'nm', u'tonnes', u'species', u'decades', u'barrels', u'tons', u'largest', u'centuries', u'km2']\n",
    "preUnits = [u'$', u'around', u'late', u'early', u'nearly', u'since', u'approximately', u'number']\n",
    "\n",
    "# Returns true if the word represents a number\\n\",\n",
    "def isNumber(word):\n",
    "    pattern = \".?(\\\\d)+((,|.)(\\\\d)+)*\"\n",
    "    if re.match(pattern,word) :\n",
    "        return True\n",
    "    if word.lower() in numInWords:\n",
    "        return True\n",
    "    return False\n",
    "\n",
    "def isStopWord(word):\n",
    "    return word.lower() in stop_words\n"
   ]
  },
  {
   "cell_type": "code",
   "execution_count": 23,
   "metadata": {
    "collapsed": false
   },
   "outputs": [],
   "source": [
    "# Get the output for part B:\n",
    "# In the form [(docID, questID, entities)]\n",
    "def generatePartBOutput(qs, partAOutput, taggedSents):   \n",
    "    partBOutput = []\n",
    "    for (docIndex, questionIndex, sentenceIndex) in partAOutput:\n",
    "        stanfordTags = taggedSents[docIndex][sentenceIndex]\n",
    "        newTags = refineWordTags(stanfordTags)\n",
    "        question = qs[docIndex][questionIndex][\"question\"]\n",
    "        partBOutput.append((docIndex, questionIndex, sentenceIndex, newTags))\n",
    "    return partBOutput\n",
    "\n",
    "partBDevAnswers = generatePartBOutput(dev, partADevAnswers, taggedDev)\n",
    "partBTestAnswers = generatePartBOutput(test, partATestAnswers, taggedTest)"
   ]
  },
  {
   "cell_type": "code",
   "execution_count": 24,
   "metadata": {
    "collapsed": false
   },
   "outputs": [
    {
     "data": {
      "text/plain": [
       "(0,\n",
       " 0,\n",
       " 1,\n",
       " [(u'Night-vision devices using active near-infrared illumination allow', 'O'),\n",
       "  (u'people', 'POSTNUM'),\n",
       "  (u'or', 'STOPWORD'),\n",
       "  (u'animals', u'O'),\n",
       "  (u'to be', 'STOPWORD'),\n",
       "  (u'observed without', u'O'),\n",
       "  (u'the', 'STOPWORD'),\n",
       "  (u'observer', u'O'),\n",
       "  (u'being', 'STOPWORD'),\n",
       "  (u'detected', u'O'),\n",
       "  (u'.', 'PUNC')])"
      ]
     },
     "execution_count": 24,
     "metadata": {},
     "output_type": "execute_result"
    }
   ],
   "source": [
    "partBDevAnswers[0]"
   ]
  },
  {
   "cell_type": "code",
   "execution_count": 35,
   "metadata": {
    "collapsed": false
   },
   "outputs": [
    {
     "name": "stdout",
     "output_type": "stream",
     "text": [
      "\n",
      "DocIndex: 0\n",
      "\n",
      "QuestionIndex: 0\n",
      "\n",
      "SentenceIndex: 283\n",
      "\n",
      "Question: What year did the Crimean War begin?\n",
      "\n",
      "PossibleAnswers: \n",
      "[(u'a', 'STOPWORD'), (u'forgotten theatre', u'O'), (u'of the', 'STOPWORD'), (u'Crimean War', 'OTHERCAP'), (u'.', 'PUNC')]\n"
     ]
    }
   ],
   "source": [
    "## Example output:\n",
    "print \"\\nDocIndex: \" + str(partBTestAnswers[0][0])\n",
    "print \"\\nQuestionIndex: \" + str(partBTestAnswers[0][1])\n",
    "print \"\\nSentenceIndex: \" + str(partBTestAnswers[0][2])\n",
    "print \"\\nQuestion: \" + test[0][0][\"question\"]\n",
    "print \"\\nPossibleAnswers: \" \n",
    "print partBTestAnswers[0][3]"
   ]
  },
  {
   "cell_type": "markdown",
   "metadata": {},
   "source": [
    "## Quick evaluation of the first two parts on the dev set:\n"
   ]
  },
  {
   "cell_type": "code",
   "execution_count": 38,
   "metadata": {
    "collapsed": true
   },
   "outputs": [],
   "source": [
    "def evaluateNERonDev():\n",
    "    correct = []\n",
    "    wrong = []\n",
    "    for (docIndex, questionIndex, sentenceIndex, newTags) in partBDevAnswers:\n",
    "        answer = dev[docIndex][questionIndex][\"answer\"]\n",
    "        possAnswers = newTags \n",
    "        inThere = False\n",
    "        for possAnswer in newTags:\n",
    "            if possAnswer[0] == answer:\n",
    "                inThere = True\n",
    "                break\n",
    "        if inThere:\n",
    "            correct.append((docIndex, questionIndex, sentenceIndex, newTags))\n",
    "        else :\n",
    "            wrong.append((docIndex, questionIndex, sentenceIndex, newTags))\n",
    "    return (correct, wrong)"
   ]
  },
  {
   "cell_type": "code",
   "execution_count": 30,
   "metadata": {
    "collapsed": false
   },
   "outputs": [
    {
     "name": "stdout",
     "output_type": "stream",
     "text": [
      "2409\n",
      "6054\n"
     ]
    }
   ],
   "source": [
    "(nerDevCorrect, nerDevWrong) = evaluateNERonDev()\n",
    "print len(nerDevCorrect)\n",
    "print len(nerDevWrong)"
   ]
  },
  {
   "cell_type": "markdown",
   "metadata": {},
   "source": [
    "## Derek part"
   ]
  },
  {
   "cell_type": "code",
   "execution_count": 47,
   "metadata": {
    "collapsed": true
   },
   "outputs": [],
   "source": [
    "def detect_openclass_word(sameword_list):\n",
    "    tagged_text = nltk.pos_tag(sameword_list)\n",
    "    is_noun = lambda pos: pos[:2] == 'NN'\n",
    "    is_verb = lambda pos: pos[:2] == 'VB'\n",
    "    #is_adjective = lambda pos: pos[:2] == 'JJ'\n",
    "    #is_adverb = lambda pos: pos[:2] == 'RB'\n",
    "    \n",
    "    nouns = [word for (word, pos) in tagged_text if is_noun(pos)] \n",
    "    verbs = [word for (word, pos) in tagged_text if is_verb(pos)] \n",
    "    #adjectives = [word for (word, pos) in tagged_text if is_adjective(pos)] \n",
    "    #adverbs = [word for (word, pos) in tagged_text if is_adverb(pos)]\n",
    "    return nouns+verbs"
   ]
  },
  {
   "cell_type": "code",
   "execution_count": 46,
   "metadata": {
    "collapsed": true
   },
   "outputs": [],
   "source": [
    "# Given a question, returns a tag for the answer form\n",
    "# From PERSON, LOCATION, NUMBER, OTHER \n",
    "# Assuming question is lowercased\n",
    "def getQuestionType(question):\n",
    "    if 'Who' in question:\n",
    "        return \"PERSON\"\n",
    "    if 'where' in question:\n",
    "        return \"LOCATION\"\n",
    "    if 'How many' in question:\n",
    "        return \"NUMBER\"\n",
    "    if 'How much' in question:\n",
    "        return \"NUMBER\"\n",
    "    if 'When' in question:\n",
    "        return \"NUMBER\"\n",
    "    if 'what year' in question:\n",
    "        return \"NUMBER\"\n",
    "    if 'What year' in question:\n",
    "        return \"NUMBER\"\n",
    "    else:\n",
    "        return \"O\""
   ]
  },
  {
   "cell_type": "code",
   "execution_count": 45,
   "metadata": {
    "collapsed": true
   },
   "outputs": [],
   "source": [
    "#remove the non-word entities from answer-entities\n",
    "def process_answer_entities(anwser_entities):\n",
    "    new_anwser_entities =[]\n",
    "    for (entity,entity_type) in anwser_entities:\n",
    "        tokenized_entity = word_tokenize(entity)\n",
    "        #print tokenized_entity\n",
    "        temp = []\n",
    "        for ele in tokenized_entity:\n",
    "            if ele not in non_words:\n",
    "                temp.append(ele)\n",
    "        temp = ' '.join(temp)\n",
    "        new_anwser_entities.append((temp,entity_type))\n",
    "    return new_anwser_entities      \n"
   ]
  },
  {
   "cell_type": "code",
   "execution_count": 43,
   "metadata": {
    "collapsed": false
   },
   "outputs": [],
   "source": [
    "\n",
    "#first:  whose anwsers all appear in the questions rank the lowest\n",
    "#assumption: input question in its dictionary value\n",
    "from string import punctuation  \n",
    "non_words = list(punctuation)\n",
    "\n",
    "def first_filter(question, anwser_entities):\n",
    "    ranking_dict_1 = {}\n",
    "    ranking_list = []\n",
    "    merge_list = []\n",
    "    answer_entities_list = []\n",
    "    anwser_entities = process_answer_entities(anwser_entities)\n",
    "    \n",
    "    for entity in anwser_entities:\n",
    "        answer_entities_list.append(entity[0])\n",
    "        if entity[0] in question:\n",
    "            #print entity[0]\n",
    "            #if entity[0].lower() not in stop_words and entity[0]!='' and entity[0].lower() not in non_words:\n",
    "            if entity[1] != 'STOPWORD' and entity[1] !='PUNC' and entity[0]!='':   \n",
    "                #print entity[0]\n",
    "                merge_list.append(entity[0])\n",
    "        else:\n",
    "            if entity[0].lower() not in stop_words and entity[0]!='' and entity[0].lower() not in non_words:\n",
    "            #if entity[1] != 'STOPWORD' and entity[1] !='PUNC' and entity[0]!='':  \n",
    "                ranking_list.append(entity)\n",
    "                \n",
    "    #get rid of the not noun phrases   \n",
    "    #print merge_list\n",
    "    \n",
    "    final_merge_list = []\n",
    "    for phrase in merge_list:\n",
    "        tokenized_phrase = word_tokenize(phrase)\n",
    "        for word in tokenized_phrase:\n",
    "            if word not in stop_words and word.lower() not in non_words:\n",
    "                #print phrase\n",
    "                final_merge_list.append(phrase)\n",
    "                \n",
    "    final_ranking_list = []            \n",
    "    for entity in ranking_list:\n",
    "        if entity[1] != 'STOPWORD':\n",
    "            final_ranking_list.append(entity)\n",
    "    \n",
    "    #detect the open-class word in here for easier process   \n",
    "    #print merge_list\n",
    "    final_merge_list = set(detect_openclass_word(final_merge_list))\n",
    "    ranking_dict_1[\"ranking_list\"] = final_ranking_list\n",
    "    ranking_dict_1[\"same_word_list\"] = final_merge_list\n",
    "    ranking_dict_1[\"answer_entities_list\"] = answer_entities_list\n",
    "    return ranking_dict_1\n"
   ]
  },
  {
   "cell_type": "code",
   "execution_count": 48,
   "metadata": {
    "collapsed": false
   },
   "outputs": [
    {
     "name": "stdout",
     "output_type": "stream",
     "text": [
      "Number Correct : 920\n",
      "Number incorrect: 1489\n",
      "Average correct : 0.381901203819\n"
     ]
    }
   ],
   "source": [
    "(corAns, wrongAns) = evaluateAnswerRanking(dev, devSents,len(dev))\n",
    "print(\"Number Correct : \" + str(len(corAns)))\n",
    "print(\"Number incorrect: \" + str(len(wrongAns)))\n",
    "print (\"Average correct : \" + str((len(corAns) + 0.0) / (len(corAns)+len(wrongAns))))"
   ]
  },
  {
   "cell_type": "code",
   "execution_count": 40,
   "metadata": {
    "collapsed": false
   },
   "outputs": [],
   "source": [
    "\n",
    "#second: answers which match the question type should be ranked higher than those that dont\n",
    "\n",
    "#assumption: save questions' type in the dictionary format quesiton1 = \n",
    "#{u'answer': u'long playing',u'answer_sentence': 2, u'question':......., 'question_type:'PERSON'}\n",
    "\n",
    "def second_filter(question, ranking_dict_1):\n",
    "    question_with_type ={}\n",
    "    question_with_type['question_type']= getQuestionType(question)\n",
    "    question_with_type['question'] = question\n",
    "    #print question_with_type\n",
    "    ranking_dict_2 = {}\n",
    "    ranking_list =[]\n",
    "    merge_list = []\n",
    "    for entity in ranking_dict_1[\"ranking_list\"]:\n",
    "        if question_with_type['question_type'] == 'O':\n",
    "            ranking_list.append(entity[0])\n",
    "        else:\n",
    "            if entity[1] == question_with_type['question_type']:\n",
    "                ranking_list.append(entity[0])\n",
    "            else:\n",
    "                merge_list.append(entity[0])\n",
    "    ranking_dict_2[\"same_word_list\"] = ranking_dict_1[\"same_word_list\"]\n",
    "    ranking_dict_2[\"ranking_list\"] = ranking_list\n",
    "    ranking_dict_2[\"Other_tags_list\"] = merge_list\n",
    "    ranking_dict_2[\"answer_entities_list\"] = ranking_dict_1[\"answer_entities_list\"]\n",
    "    return ranking_dict_2\n",
    "    "
   ]
  },
  {
   "cell_type": "code",
   "execution_count": 41,
   "metadata": {
    "collapsed": true
   },
   "outputs": [],
   "source": [
    "\n",
    "#Thrid: based on second, the prefered entity should be the one which is close in \n",
    "#the sentence to a closed-class word form the question\n",
    "from collections import OrderedDict\n",
    "\n",
    "def cal_distance_words(entity,same_words, anwser_entities):\n",
    "    temp = 0\n",
    "    for same_word in same_words:\n",
    "        temp += abs(anwser_entities.index(entity) - anwser_entities.index(same_word))\n",
    "        minist = temp\n",
    "    return float(temp)/float(len(same_words))\n",
    "\n",
    "def sort_orderedDict(orderdict):\n",
    "    return OrderedDict(sorted(orderdict.items(), key = lambda x:x[1], reverse = False))\n",
    "        \n",
    "\n",
    "def third_filter(question,second_filter,anwser_entities):\n",
    "    dict_ranking ={}\n",
    "    if (len(second_filter[\"same_word_list\"])==0):\n",
    "        if len(second_filter['ranking_list']) != 0:\n",
    "            return second_filter['ranking_list'][0]\n",
    "        else:\n",
    "            return second_filter[\"Other_tags_list\"][0]\n",
    "            #for entity in second_filter[\"Other_tags_list\"]:\n",
    "                #dict_ranking[entity]= cal_distance_words(entity, second_filter[\"same_word_list\"],anwser_entities)\n",
    "            #dict_ranking = sort_orderedDict(dict_ranking)\n",
    "            #if len(dict_ranking.items()) ==0:\n",
    "                #return 0\n",
    "            #else:\n",
    "            #return dict_ranking.items()[0][0]\n",
    "    else:\n",
    "        #if len(second_filter['ranking_list']) != 0:\n",
    "        for entity in second_filter[\"ranking_list\"]:\n",
    "            dict_ranking[entity]= cal_distance_words(entity, second_filter[\"same_word_list\"],anwser_entities)\n",
    "        #else:\n",
    "            #if len(second_filter[\"Other_tags_list\"]) !=0:\n",
    "                #for entity in second_filter[\"Other_tags_list\"]:\n",
    "                    #dict_ranking[entity]= cal_distance_words(entity, second_filter[\"same_word_list\"],anwser_entities)\n",
    "            #print dict_ranking\n",
    "            #else:\n",
    "                #return 0\n",
    "        dict_ranking = sort_orderedDict(dict_ranking)\n",
    "            #print dict_ranking\n",
    "        if len(dict_ranking.items()) ==0:\n",
    "            return 0\n",
    "        else:\n",
    "            return dict_ranking.items()[0][0]\n"
   ]
  },
  {
   "cell_type": "code",
   "execution_count": null,
   "metadata": {
    "collapsed": true
   },
   "outputs": [],
   "source": [
    "What country is Guam a territory of?\n",
    "[(u'Guam ( i\\u02c8\\u0261w\\u0251\\u02d0m', 'O'), (u'or', 'STOPWORD'), (u'\\u02c8\\u0261w\\u0252m', u'O'), (u';', 'PUNC'), (u'Chamorro', u'PERSON'), (u':', 'PUNC'), (u'Gu\\xe5h\\xe5n', 'OTHERCAP'), (u';', 'PUNC'), (u'[ needs', u'O'), (u'IPA', 'OTHERCAP'), (u'] formally', u'O'), (u'the', 'STOPWORD'), (u'Territory', 'OTHERCAP'), (u'of', 'STOPWORD'), (u'Guam', 'OTHERCAP'), (u')', u'O'), (u'is an', 'STOPWORD'), (u'unincorporated', u'O'), (u'and', 'STOPWORD'), (u'organized territory', u'O'), (u'of the', 'STOPWORD'), (u'United States', u'LOCATION'), (u'.', 'PUNC')]"
   ]
  },
  {
   "cell_type": "code",
   "execution_count": 92,
   "metadata": {
    "collapsed": true
   },
   "outputs": [],
   "source": [
    "question = \"What country is Guam a territory of?\"\n",
    "a = [(u'Guam ( i\\u02c8\\u0261w\\u0251\\u02d0m', 'O'), (u'or', 'STOPWORD'), (u'\\u02c8\\u0261w\\u0252m', u'O'), (u';', 'PUNC'), (u'Chamorro', u'PERSON'), (u':', 'PUNC'), (u'Gu\\xe5h\\xe5n', 'OTHERCAP'), (u';', 'PUNC'), (u'[ needs', u'O'), (u'IPA', 'OTHERCAP'), (u'] formally', u'O'), (u'the', 'STOPWORD'), (u'Territory', 'OTHERCAP'), (u'of', 'STOPWORD'), (u'Guam', 'OTHERCAP'), (u')', u'O'), (u'is an', 'STOPWORD'), (u'unincorporated', u'O'), (u'and', 'STOPWORD'), (u'organized territory', u'O'), (u'of the', 'STOPWORD'), (u'United States', u'LOCATION'), (u'.', 'PUNC')]"
   ]
  },
  {
   "cell_type": "code",
   "execution_count": 109,
   "metadata": {
    "collapsed": false
   },
   "outputs": [
    {
     "name": "stdout",
     "output_type": "stream",
     "text": [
      "{'ranking_list': [(u'Guam i\\u02c8\\u0261w\\u0251\\u02d0m', 'O'), (u'\\u02c8\\u0261w\\u0252m', u'O'), (u'Chamorro', u'PERSON'), (u'Gu\\xe5h\\xe5n', 'OTHERCAP'), (u'needs', u'O'), (u'IPA', 'OTHERCAP'), (u'formally', u'O'), (u'Territory', 'OTHERCAP'), (u'unincorporated', u'O'), (u'organized territory', u'O'), (u'United States', u'LOCATION')], 'answer_entities_list': [u'Guam i\\u02c8\\u0261w\\u0251\\u02d0m', u'or', u'\\u02c8\\u0261w\\u0252m', '', u'Chamorro', '', u'Gu\\xe5h\\xe5n', '', u'needs', u'IPA', u'formally', u'the', u'Territory', u'of', u'Guam', '', u'is an', u'unincorporated', u'and', u'organized territory', u'of the', u'United States', ''], 'same_word_list': set([u'Guam'])}\n"
     ]
    }
   ],
   "source": [
    "test = first_filter(question,a)\n",
    "print test"
   ]
  },
  {
   "cell_type": "code",
   "execution_count": 72,
   "metadata": {
    "collapsed": false
   },
   "outputs": [
    {
     "name": "stdout",
     "output_type": "stream",
     "text": [
      "{'ranking_list': [u'Infrared radiation', u'scientific', u'medical applications'], 'Other_tags_list': [], 'answer_entities_list': [u'Infrared radiation', u'is', u'used', u'in', u'industrial', '', u'scientific', '', u'and', u'medical applications', ''], 'same_word_list': set([u'industrial'])}\n"
     ]
    }
   ],
   "source": [
    "test2 = second_filter(question, test)\n",
    "print test2"
   ]
  },
  {
   "cell_type": "code",
   "execution_count": 73,
   "metadata": {
    "collapsed": false
   },
   "outputs": [
    {
     "name": "stdout",
     "output_type": "stream",
     "text": [
      "scientific\n"
     ]
    }
   ],
   "source": [
    "#print cal_distance_words('Melbourne',test2[\"same_word_list\"],test2[\"answer_entities_list\"])\n",
    "test3 = third_filter(question, test2,test2[\"answer_entities_list\"])\n",
    "print test3"
   ]
  },
  {
   "cell_type": "code",
   "execution_count": 84,
   "metadata": {
    "collapsed": true
   },
   "outputs": [],
   "source": [
    "(nerDevCorrect, nerDevWrong) = evaluateNERonDev()"
   ]
  },
  {
   "cell_type": "code",
   "execution_count": 85,
   "metadata": {
    "collapsed": false
   },
   "outputs": [
    {
     "name": "stdout",
     "output_type": "stream",
     "text": [
      "(0, 3, 3, [(u'Infrared thermal-imaging cameras', 'O'), (u'are', 'STOPWORD'), (u'used', u'O'), (u'to', 'STOPWORD'), (u'detect heat loss', u'O'), (u'in', 'STOPWORD'), (u'insulated systems', u'O'), (u',', 'PUNC'), (u'to', 'STOPWORD'), (u'observe changing blood flow', u'O'), (u'in the', 'STOPWORD'), (u'skin', u'O'), (u',', 'PUNC'), (u'and to', 'STOPWORD'), (u'detect overheating', u'O'), (u'of', 'STOPWORD'), (u'electrical apparatus', u'O'), (u'.', 'PUNC')])\n"
     ]
    }
   ],
   "source": [
    "print nerDevCorrect[0]"
   ]
  },
  {
   "cell_type": "markdown",
   "metadata": {},
   "source": [
    "## Evaluation"
   ]
  },
  {
   "cell_type": "code",
   "execution_count": 35,
   "metadata": {
    "collapsed": true
   },
   "outputs": [],
   "source": [
    "# For each question, evaluate if the answer is present as an entity\n",
    "\n",
    "def evaluateAnswerRanking(questionsList,documentsList, numToEval):\n",
    "    correct = []\n",
    "    wrong = []\n",
    "    (nerDevCorrect, nerDevWrong) = evaluateNERonDev()\n",
    "    #(corNER, wrongNER) = evaluateNER()\n",
    "    entityListsWithAnswer = nerDevCorrect\n",
    "    for (i,j,x,possAnswers) in entityListsWithAnswer:\n",
    "        question = questionsList[i][j][\"question\"]\n",
    "        answer =  questionsList[i][j][\"answer\"]\n",
    "        #print question\n",
    "        #print possAnswers\n",
    "        #print answer\n",
    "        answerPredicited = third_filter(question,second_filter(question,first_filter(question, possAnswers)),second_filter(question,first_filter(question, possAnswers))['answer_entities_list']) \n",
    "        #print answerPredicited\n",
    "        #print '%%%%%%%%%%%%%%%%%%%%%%%%%%%%%%%%%%%%%%'\n",
    "        # TODO add Dereks part here\n",
    "        if (answerPredicited == answer):\n",
    "            correct.append((i,j))\n",
    "        else :\n",
    "            wrong.append((i,j,answerPredicited))\n",
    "        #print correct\n",
    "    return (correct, wrong)\n",
    "    "
   ]
  },
  {
   "cell_type": "code",
   "execution_count": 51,
   "metadata": {
    "collapsed": false
   },
   "outputs": [
    {
     "name": "stdout",
     "output_type": "stream",
     "text": [
      "Number Correct : 920\n",
      "Number incorrect: 1489\n",
      "Average correct : 0.381901203819\n"
     ]
    }
   ],
   "source": [
    "(corAns, wrongAns) = evaluateAnswerRanking(dev, devSents,len(dev))\n",
    "print(\"Number Correct : \" + str(len(corAns)))\n",
    "print(\"Number incorrect: \" + str(len(wrongAns)))\n",
    "print (\"Average correct : \" + str((len(corAns) + 0.0) / (len(corAns)+len(wrongAns))))"
   ]
  },
  {
   "cell_type": "markdown",
   "metadata": {},
   "source": [
    "## Derek submission"
   ]
  },
  {
   "cell_type": "code",
   "execution_count": 49,
   "metadata": {
    "collapsed": false
   },
   "outputs": [],
   "source": [
    "answer_list = []\n",
    "for ele in partBTestAnswers:\n",
    "    answer_dict = {}\n",
    "    #print ele\n",
    "    question = test[ele[0]][ele[1]]['question']\n",
    "    \n",
    "    possAnswers = ele[3]\n",
    "    answer = third_filter(question,second_filter(question,first_filter(question, possAnswers)),second_filter(question,first_filter(question, possAnswers))['answer_entities_list'])\n",
    "    answer_dict['sentence'] = possAnswers\n",
    "    answer_dict['question'] = question\n",
    "    answer_dict['answer'] = answer\n",
    "    answer_list.append(answer_dict)"
   ]
  },
  {
   "cell_type": "code",
   "execution_count": 50,
   "metadata": {
    "collapsed": true
   },
   "outputs": [],
   "source": [
    "import csv\n",
    "headers = ['id', 'answer']\n",
    "\n",
    "with open('submit.csv','w') as f:\n",
    "    f_csv = csv.DictWriter(f, headers)\n",
    "    f_csv.writeheader()\n",
    "    for index in range(len(answer_list)):\n",
    "        if isinstance( answer_list[index]['answer'], int):\n",
    "            f_csv.writerows([{'id':index+1,'answer':answer_list[index]['answer']}])\n",
    "        else:\n",
    "            f_csv.writerows([{'id':index+1,'answer':answer_list[index]['answer'].encode(\"utf-8\")}])"
   ]
  },
  {
   "cell_type": "markdown",
   "metadata": {},
   "source": [
    "## Joshi Submission"
   ]
  },
  {
   "cell_type": "code",
   "execution_count": 3,
   "metadata": {
    "collapsed": true
   },
   "outputs": [],
   "source": [
    "# Part A gives us a most likely sentence\n",
    "# Part B splits into entities\n",
    "\n",
    "# Given a question, returns a tag for the answer form\n",
    "# From PERSON, LOCATION, NUMBER, OTHER \n",
    "# Assuming question is lowercased\n",
    "def getQuestionType(question):\n",
    "    if 'Who' in question:\n",
    "        return \"PERSON\"\n",
    "    if 'where' in question:\n",
    "        return \"LOCATION\"\n",
    "    if 'How many' in question:\n",
    "        return \"NUMBER\"\n",
    "    if 'How much' in question:\n",
    "        return \"NUMBER\"\n",
    "    if 'When' in question:\n",
    "        return \"NUMBER\"\n",
    "    if 'what year' in question:\n",
    "        return \"NUMBER\"\n",
    "    else:\n",
    "        return \"O\""
   ]
  },
  {
   "cell_type": "code",
   "execution_count": 4,
   "metadata": {
    "collapsed": true
   },
   "outputs": [],
   "source": [
    "def filter_entitites(entities):\n",
    "    return filter(lambda x: x[0] == \"O\" or x[0] == \"STOPWORD\", entities)"
   ]
  },
  {
   "cell_type": "code",
   "execution_count": 54,
   "metadata": {
    "collapsed": true
   },
   "outputs": [],
   "source": [
    "# First, answers whose content words all appear in the question should be ranked lowest.\n",
    "\n",
    "def first_filter2(question, answer_entities):\n",
    "   \n",
    "    ranked_list = []\n",
    "    \n",
    "    question = set(pre_process(question))\n",
    "    \n",
    "#     print question\n",
    "#     print\n",
    "    \n",
    "    for entity in answer_entities:\n",
    "\n",
    "        raw_span = entity[0]\n",
    "        span_tag = entity[1]\n",
    "        \n",
    "        set_span = set(pre_process(raw_span))\n",
    "        \n",
    "        if span_tag != \"O\" and span_tag != \"STOPWORD\" and span_tag !=\"PUNC\":\n",
    "            \n",
    "            if set_span.issubset(question):\n",
    "                \n",
    "                ranked_list.append([entity, 1])\n",
    "#                 print \"IN\", raw_span, span_tag, set_span, question\n",
    "                \n",
    "            else:\n",
    "                \n",
    "                ranked_list.append([entity, 2])\n",
    "#                 print \"OUT\", raw_span, span_tag, set_span, question\n",
    "    \n",
    "    return sorted(ranked_list, key=lambda x: x[1], reverse=True)"
   ]
  },
  {
   "cell_type": "code",
   "execution_count": 55,
   "metadata": {
    "collapsed": true
   },
   "outputs": [],
   "source": [
    "question = \"What country is Guam a territory of?\"\n",
    "a = [(u'Guam ( i\\u02c8\\u0261w\\u0251\\u02d0m', 'O'), (u'or', 'STOPWORD'), (u'\\u02c8\\u0261w\\u0252m', u'O'), (u';', 'PUNC'), (u'Chamorro', u'PERSON'), (u':', 'PUNC'), (u'Gu\\xe5h\\xe5n', 'OTHERCAP'), (u';', 'PUNC'), (u'[ needs', u'O'), (u'IPA', 'OTHERCAP'), (u'] formally', u'O'), (u'the', 'STOPWORD'), (u'Territory', 'OTHERCAP'), (u'of', 'STOPWORD'), (u'Guam', 'OTHERCAP'), (u')', u'O'), (u'is an', 'STOPWORD'), (u'unincorporated', u'O'), (u'and', 'STOPWORD'), (u'organized territory', u'O'), (u'of the', 'STOPWORD'), (u'United States', u'LOCATION'), (u'.', 'PUNC')]"
   ]
  },
  {
   "cell_type": "code",
   "execution_count": 6,
   "metadata": {
    "collapsed": true
   },
   "outputs": [],
   "source": [
    "# Second, answers which match the question type should be ranked higher than those that don't; for this, you\n",
    "# should build a simple rule-based question type classifier based on key words (e.g. questions which contain \"who\" are\n",
    "# people).\n",
    "\n",
    "# First, answers whose content words all appear in the question should be ranked lowest.\n",
    "\n",
    "def second_filter2(question, ranked_list):\n",
    "   \n",
    "    question_type = getQuestionType(question)\n",
    "#     print question_type\n",
    "    \n",
    "    for index, answer in enumerate(ranked_list):\n",
    "        \n",
    "        entity_tag = answer[0][1]\n",
    "        \n",
    "        if entity_tag == question_type:\n",
    "#             print \"MATCH\", answer[0], question_type, question\n",
    "            ranked_list[index].append(2)\n",
    "#             ranked_list[index][1] += 1\n",
    "        else:\n",
    "            ranked_list[index].append(1)\n",
    "#             ranked_list[index][1] -= 1\n",
    "            \n",
    "    return ranked_list"
   ]
  },
  {
   "cell_type": "code",
   "execution_count": 7,
   "metadata": {
    "collapsed": false
   },
   "outputs": [],
   "source": [
    "import nltk\n",
    "# Follow lemmatize function from guide notebook: WSTA_N1B_preprocessing.ipynb\n",
    "lemmatizer = nltk.stem.wordnet.WordNetLemmatizer()\n",
    "word_tokenizer = nltk.tokenize.WordPunctTokenizer() #word_tokenize #tokenize.regexp.WordPunctTokenizer()\n",
    "\n",
    "def lemmatize(word):\n",
    "    lemma = lemmatizer.lemmatize(word,'v')\n",
    "    if lemma == word:\n",
    "        lemma = lemmatizer.lemmatize(word,'n')\n",
    "    return lemma\n",
    "\n",
    "def pre_process2(line):\n",
    "    tokenized_sentence = word_tokenizer.tokenize(line.lower())\n",
    "    lemmatized_sentence = [lemmatize(token) for token in tokenized_sentence]\n",
    "    filtered_sentence = [token for token in lemmatized_sentence if token not in filter_tokens]\n",
    "    tagged_sent = nltk.pos_tag(lemmatized_sentence)\n",
    "    final = []\n",
    "    for word, tag in tagged_sent:\n",
    "        if \"V\" in tag or \"NN\" in tag:\n",
    "#             final.append((word,tag))\n",
    "            final.append(word)\n",
    "            \n",
    "#     print \"RESULT: \", final\n",
    "    return final"
   ]
  },
  {
   "cell_type": "code",
   "execution_count": 8,
   "metadata": {
    "collapsed": true
   },
   "outputs": [],
   "source": [
    "# Third, among entities of the same type, the prefered entity should be the one which is closer in the sentence to a\n",
    "# closed-class word from the question.\n",
    "\n",
    "from collections import defaultdict\n",
    "\n",
    "def third_filter2(question, possAnswers, ranked_list):\n",
    "    \n",
    "    question = pre_process2(question)\n",
    "\n",
    "    answer_sent = \" \".join([x[0] for x in possAnswers])\n",
    "    answer_sent = pre_process(answer_sent)\n",
    "    raw_answer_sent = \" \".join(answer_sent)\n",
    "    \n",
    "#     print \"QUESTION: \"\n",
    "#     pp.pprint(question)\n",
    "#     print \"ANSWER: \"\n",
    "#     pp.pprint(answer_sent)\n",
    "#     pp.pprint(raw_answer_sent)\n",
    "    \n",
    "    for index, answer in enumerate(ranked_list):\n",
    "\n",
    "        span_tag = answer[0][1]\n",
    "        raw_span = answer[0][0]\n",
    "\n",
    "        proc_span = pre_process(raw_span)\n",
    "\n",
    "        raw_proc_span = \" \".join(proc_span)\n",
    "        new_raw_proc_span = \"-\".join(proc_span)\n",
    "\n",
    "        raw_answer_sent = raw_answer_sent.replace(raw_proc_span, new_raw_proc_span)\n",
    "    \n",
    "    answer_sent = raw_answer_sent.split(\" \")\n",
    "    \n",
    "    avg_dict = defaultdict(float)\n",
    "    \n",
    "    for open_class in question:\n",
    "        \n",
    "        if open_class in answer_sent:\n",
    "            \n",
    "            open_class_locations = [i for i, x in enumerate(answer_sent) if x == open_class]\n",
    "            \n",
    "#             print \"OPEN CLASS: \", repr(open_class)\n",
    "\n",
    "            for index, answer in enumerate(ranked_list):\n",
    "\n",
    "                span_tag = answer[0][1]\n",
    "                raw_span = answer[0][0]\n",
    "\n",
    "                proc_span = pre_process(raw_span)\n",
    "                \n",
    "                raw_proc_span = \" \".join(proc_span)\n",
    "                new_raw_proc_span = \"-\".join(proc_span)\n",
    "                \n",
    "                proc_span_locations = [i for i, x in enumerate(answer_sent) if x == new_raw_proc_span]\n",
    "                \n",
    "                min_dist = len(answer_sent)\n",
    "                min_dist_ind = (None, None)\n",
    "                \n",
    "                for loc1 in proc_span_locations:\n",
    "                    \n",
    "                    for loc2 in open_class_locations:\n",
    "                        \n",
    "                        dist = abs(loc1 - loc2)\n",
    "                        \n",
    "                        if dist < min_dist:\n",
    "                            \n",
    "                            min_dist = dist\n",
    "                            min_dist_ind = (loc1, loc2)\n",
    "                \n",
    "#                 print \"PROC: \", proc_span_locations\n",
    "#                 print \"OPEN CLASS: \", open_class_locations                \n",
    "                scale = (len(answer_sent) - min_dist) * 1.0 / len(answer_sent)\n",
    "#                 print \"JOINT: \", min_dist_ind, scale\n",
    "                avg_dict[index] += scale\n",
    "#                 ranked_list[index][1] *= scale\n",
    "    \n",
    "    \n",
    "    for key, value in avg_dict.iteritems():\n",
    "        ranked_list[key].append(value / len(question))\n",
    "\n",
    "    return ranked_list"
   ]
  },
  {
   "cell_type": "code",
   "execution_count": 9,
   "metadata": {
    "collapsed": true
   },
   "outputs": [],
   "source": [
    "def reduce_rank(ranking_list):\n",
    "    \n",
    "    new_ranking = []\n",
    "    \n",
    "    for rank in ranking_list:\n",
    "        \n",
    "        new_rank = ( rank[1] + rank[2] )\n",
    "        \n",
    "        if len(rank) == 4:\n",
    "             new_rank *= rank[3]\n",
    "        \n",
    "        new_ranking.append([rank[0], new_rank])\n",
    "        \n",
    "    return sorted(new_ranking, key=lambda x: x[1], reverse=True)"
   ]
  },
  {
   "cell_type": "code",
   "execution_count": 57,
   "metadata": {
    "collapsed": false
   },
   "outputs": [],
   "source": [
    "answer_list = []\n",
    "for ele in partBTestAnswers:\n",
    "    answer_dict = {}\n",
    "    #print ele\n",
    "    question = test[ele[0]][ele[1]]['question']\n",
    "    \n",
    "    possAnswers = ele[3]\n",
    "    #print possAnswers\n",
    "    #answer = third_filter(question,second_filter(question,first_filter(question, possAnswers)),second_filter(question,first_filter(question, possAnswers))['answer_entities_list'])\n",
    "    first_pass = first_filter2(question, possAnswers)\n",
    "    second_pass = second_filter2(question, first_pass)\n",
    "    third_pass = third_filter2(question, possAnswers, second_pass)\n",
    "    fourth_pass = reduce_rank(third_pass)\n",
    "    \n",
    "    answer_dict['sentence'] = possAnswers\n",
    "    answer_dict['question'] = question\n",
    "    if len(fourth_pass)==0:\n",
    "        answer_dict['answer'] = 'no result found'\n",
    "    else:\n",
    "        answer_dict['answer'] = fourth_pass.pop(0)\n",
    "    answer_list.append(answer_dict)"
   ]
  },
  {
   "cell_type": "code",
   "execution_count": 79,
   "metadata": {
    "collapsed": false
   },
   "outputs": [
    {
     "name": "stdout",
     "output_type": "stream",
     "text": [
      "{'answer': [(u'five', 'NUMBER'), 3.6923076923076925], 'question': u'How many councilors are there?', 'sentence': [(u'It', 'O'), (u'is', 'STOPWORD'), (u'composed', u'O'), (u'of', 'STOPWORD'), (u'five', 'NUMBER'), (u'councilors (', u'O'), (u'German', 'OTHERCAP'), (u':', 'PUNC'), (u'Gemeinderat-r\\xe4tin', 'OTHERCAP'), (u')', u'O'), (u',', 'PUNC'), (u'each', 'STOPWORD'), (u'presiding', u'O'), (u'over a', 'STOPWORD'), (u'directorate (', u'O'), (u'Direktion', 'OTHERCAP'), (u') comprising several departments', u'O'), (u'and', 'STOPWORD'), (u'bureaus', u'O'), (u'.', 'PUNC')]}\n"
     ]
    }
   ],
   "source": [
    "print answer_list[2000]"
   ]
  },
  {
   "cell_type": "code",
   "execution_count": 37,
   "metadata": {
    "collapsed": true
   },
   "outputs": [],
   "source": [
    "import pprint\n",
    "pp = pprint.PrettyPrinter(indent=4)\n",
    "\n",
    "import nltk\n",
    "from nltk.corpus import stopwords\n",
    "\n",
    "import pickle # Useful for read / write of list file\n",
    "import os #Needed to check if file exists\n",
    "\n",
    "from nltk.tag import StanfordNERTagger\n",
    "from nltk.tokenize import word_tokenize\n",
    "\n",
    "import re\n",
    "\n",
    "from sklearn.feature_extraction.text import TfidfVectorizer\n",
    "from sklearn.neighbors import NearestNeighbors\n",
    "\n",
    "stop_words = set(stopwords.words('english'))\n",
    "\n",
    "from string import punctuation  \n",
    "punct_tokens = set(punctuation)\n",
    "extra_tokens = set([\"what\", \"where\", \"how\", \"when\", \"who\"])\n",
    "\n",
    "filter_tokens = extra_tokens.union(punct_tokens).union(stop_words)"
   ]
  },
  {
   "cell_type": "code",
   "execution_count": 58,
   "metadata": {
    "collapsed": false
   },
   "outputs": [],
   "source": [
    "import csv\n",
    "headers = ['id', 'answer']\n",
    "\n",
    "with open('submit.csv','w') as f:\n",
    "    f_csv = csv.DictWriter(f, headers)\n",
    "    f_csv.writeheader()\n",
    "    for index in range(len(answer_list)):\n",
    "        if isinstance( answer_list[index]['answer'], int):\n",
    "            f_csv.writerows([{'id':index+1,'answer':answer_list[index]['answer'][0][0]}])\n",
    "        else:\n",
    "            f_csv.writerows([{'id':index+1,'answer':answer_list[index]['answer'][0][0].encode(\"utf-8\")}])"
   ]
  },
  {
   "cell_type": "code",
   "execution_count": 25,
   "metadata": {
    "collapsed": true
   },
   "outputs": [],
   "source": [
    "# For each question, evaluate if the answer is present as an entity\n",
    "\n",
    "def evaluateAnswerRanking(questionsList,documentsList, numToEval):\n",
    "    \n",
    "    correct = []\n",
    "    wrong = []\n",
    "    \n",
    "    (corNER, wrongNER) = evaluateNER(questionsList,documentsList, numToEval)\n",
    "    entityListsWithAnswer = corNER\n",
    "    \n",
    "    for (i,j,possAnswers) in entityListsWithAnswer:\n",
    "        \n",
    "        question = questionsList[i][j][\"question\"]\n",
    "        answer =  questionsList[i][j][\"answer\"]\n",
    "        \n",
    "        first_pass = first_filter2(question, possAnswers)\n",
    "        second_pass = second_filter2(question, first_pass)\n",
    "        third_pass = third_filter2(question, possAnswers, second_pass)\n",
    "        fourth_pass = reduce_rank(third_pass)\n",
    "                \n",
    "#         pp.pprint(third_pass)\n",
    "\n",
    "        top_answer = fourth_pass.pop(0)\n",
    "#         pp.pprint(top_answer)        \n",
    "        answerPredicited = top_answer[0][0]\n",
    "        \n",
    "#         print answerPredicited\n",
    "\n",
    "        if (answerPredicited == answer):\n",
    "            correct.append((i,j))\n",
    "        else :\n",
    "            wrong.append((i,j,answerPredicited))\n",
    "#         break\n",
    "        #print correct\n",
    "    return (correct, wrong)\n",
    "    "
   ]
  },
  {
   "cell_type": "code",
   "execution_count": null,
   "metadata": {
    "collapsed": true
   },
   "outputs": [],
   "source": []
  }
 ],
 "metadata": {
  "anaconda-cloud": {},
  "kernelspec": {
   "display_name": "Python [Root]",
   "language": "python",
   "name": "Python [Root]"
  },
  "language_info": {
   "codemirror_mode": {
    "name": "ipython",
    "version": 2
   },
   "file_extension": ".py",
   "mimetype": "text/x-python",
   "name": "python",
   "nbconvert_exporter": "python",
   "pygments_lexer": "ipython2",
   "version": "2.7.12"
  }
 },
 "nbformat": 4,
 "nbformat_minor": 0
}
