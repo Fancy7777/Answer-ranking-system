{
 "cells": [
  {
   "cell_type": "code",
   "execution_count": 1,
   "metadata": {
    "collapsed": true
   },
   "outputs": [],
   "source": [
    "# Load in the python script containing the same code as the load the data notebook\n",
    "%run loadData.py\n",
    "# now we can access train, dev, and test\n",
    "# along with trainSents, devSents testSents"
   ]
  },
  {
   "cell_type": "code",
   "execution_count": 2,
   "metadata": {
    "collapsed": true
   },
   "outputs": [],
   "source": [
    "documents = testSents[0]\n",
    "questions = test[0]"
   ]
  },
  {
   "cell_type": "markdown",
   "metadata": {},
   "source": [
    "## Joshi part"
   ]
  },
  {
   "cell_type": "code",
   "execution_count": 3,
   "metadata": {
    "collapsed": true
   },
   "outputs": [],
   "source": [
    "from sklearn.feature_extraction.text import TfidfVectorizer\n",
    "from sklearn.neighbors import NearestNeighbors"
   ]
  },
  {
   "cell_type": "code",
   "execution_count": 4,
   "metadata": {
    "collapsed": true
   },
   "outputs": [],
   "source": [
    "# Tuning functions\n",
    "\n",
    "import nltk\n",
    "from nltk.corpus import stopwords\n",
    "\n",
    "stop_words = set(stopwords.words('english'))\n",
    "\n",
    "# Follow lemmatize function from guide notebook: WSTA_N1B_preprocessing.ipynb\n",
    "lemmatizer = nltk.stem.wordnet.WordNetLemmatizer()\n",
    "\n",
    "def lemmatize(word):\n",
    "    lemma = lemmatizer.lemmatize(word,'v')\n",
    "    if lemma == word:\n",
    "        lemma = lemmatizer.lemmatize(word,'n')\n",
    "    return lemma\n",
    "\n",
    "word_tokenizer = nltk.tokenize.WordPunctTokenizer() #word_tokenize #tokenize.regexp.WordPunctTokenizer()\n",
    "\n",
    "def pre_process(line):\n",
    "    tokenized_sentence = word_tokenizer.tokenize(line.lower())\n",
    "    lemmatized_sentence = [lemmatize(token) for token in tokenized_sentence]\n",
    "    return lemmatized_sentence"
   ]
  },
  {
   "cell_type": "code",
   "execution_count": 5,
   "metadata": {
    "collapsed": true
   },
   "outputs": [],
   "source": [
    "# Core functions\n",
    "\n",
    "def vectorize_documents(text_documents):\n",
    "\n",
    "    vectorizer = TfidfVectorizer(stop_words='english', tokenizer=pre_process)\n",
    "    vector_documents = vectorizer.fit_transform(text_documents)\n",
    "    \n",
    "    return [vector_documents, vectorizer]\n",
    "\n",
    "def vectorize_query(vectorizer, text_query):\n",
    "    return vectorizer.transform([text_query])\n",
    "\n",
    "def process_neighbours(vector_documents):\n",
    "    \n",
    "    neighbours = NearestNeighbors(1, algorithm=\"brute\", metric=\"cosine\")\n",
    "    neighbours.fit(vector_documents)\n",
    "    \n",
    "    return neighbours\n",
    "\n",
    "def closest_document(neighbours, vector_query):\n",
    "\n",
    "    result = neighbours.kneighbors(vector_query, 1, return_distance=True)\n",
    "\n",
    "    result_index = result[1][0][0]\n",
    "    result_distance = result[0][0][0]\n",
    "    \n",
    "    return [result_distance, result_index]"
   ]
  },
  {
   "cell_type": "code",
   "execution_count": 30,
   "metadata": {
    "collapsed": false
   },
   "outputs": [
    {
     "ename": "KeyError",
     "evalue": "'answer_sentence'",
     "output_type": "error",
     "traceback": [
      "\u001b[0;31m---------------------------------------------------------------------------\u001b[0m",
      "\u001b[0;31mKeyError\u001b[0m                                  Traceback (most recent call last)",
      "\u001b[0;32m<ipython-input-30-6fd3c0a06ecf>\u001b[0m in \u001b[0;36m<module>\u001b[0;34m()\u001b[0m\n\u001b[1;32m     13\u001b[0m         \u001b[0mvector_query\u001b[0m \u001b[0;34m=\u001b[0m \u001b[0mvectorize_query\u001b[0m\u001b[0;34m(\u001b[0m\u001b[0mvectorizer\u001b[0m\u001b[0;34m,\u001b[0m \u001b[0mtext_query\u001b[0m\u001b[0;34m)\u001b[0m\u001b[0;34m\u001b[0m\u001b[0m\n\u001b[1;32m     14\u001b[0m         \u001b[0mresult_similarity\u001b[0m\u001b[0;34m,\u001b[0m \u001b[0mresult_index\u001b[0m  \u001b[0;34m=\u001b[0m \u001b[0mclosest_document\u001b[0m\u001b[0;34m(\u001b[0m\u001b[0mneighbours\u001b[0m\u001b[0;34m,\u001b[0m \u001b[0mvector_query\u001b[0m\u001b[0;34m)\u001b[0m\u001b[0;34m\u001b[0m\u001b[0m\n\u001b[0;32m---> 15\u001b[0;31m         \u001b[0;32mif\u001b[0m \u001b[0mresult_index\u001b[0m \u001b[0;34m==\u001b[0m \u001b[0mint\u001b[0m\u001b[0;34m(\u001b[0m\u001b[0mquestions\u001b[0m\u001b[0;34m[\u001b[0m\u001b[0mj\u001b[0m\u001b[0;34m]\u001b[0m\u001b[0;34m[\u001b[0m\u001b[0;34m\"answer_sentence\"\u001b[0m\u001b[0;34m]\u001b[0m\u001b[0;34m)\u001b[0m\u001b[0;34m:\u001b[0m\u001b[0;34m\u001b[0m\u001b[0m\n\u001b[0m\u001b[1;32m     16\u001b[0m             \u001b[0mcorrect\u001b[0m\u001b[0;34m.\u001b[0m\u001b[0mappend\u001b[0m\u001b[0;34m(\u001b[0m\u001b[0;34m(\u001b[0m\u001b[0mi\u001b[0m\u001b[0;34m,\u001b[0m\u001b[0mj\u001b[0m\u001b[0;34m,\u001b[0m\u001b[0mresult_index\u001b[0m\u001b[0;34m)\u001b[0m\u001b[0;34m)\u001b[0m\u001b[0;34m\u001b[0m\u001b[0m\n",
      "\u001b[0;31mKeyError\u001b[0m: 'answer_sentence'"
     ]
    }
   ],
   "source": [
    "# Lets make a list of the questions part A gets right\n",
    "correct = []\n",
    "for i in range (0, len(test)):\n",
    "    documents = testSents[i]\n",
    "    questions = test[i]\n",
    "\n",
    "    vector_documents, vectorizer = vectorize_documents(documents)\n",
    "    analyze = vectorizer.build_analyzer()\n",
    "    neighbours = process_neighbours(vector_documents)\n",
    "\n",
    "    for j in range (0, len(questions)):\n",
    "        text_query = questions[j][\"question\"]\n",
    "        vector_query = vectorize_query(vectorizer, text_query)\n",
    "        result_similarity, result_index  = closest_document(neighbours, vector_query)\n",
    "        if result_index == int(questions[j][\"answer_sentence\"]):\n",
    "            correct.append((i,j,result_index))\n"
   ]
  },
  {
   "cell_type": "code",
   "execution_count": 20,
   "metadata": {
    "collapsed": true
   },
   "outputs": [],
   "source": [
    "partACorrect = correct"
   ]
  },
  {
   "cell_type": "markdown",
   "metadata": {},
   "source": [
    "## Alex part"
   ]
  },
  {
   "cell_type": "code",
   "execution_count": 6,
   "metadata": {
    "collapsed": true
   },
   "outputs": [],
   "source": [
    "from nltk.tag import StanfordNERTagger\n",
    "from nltk.tokenize import word_tokenize\n",
    "\n",
    "# The required jar files : https://nlp.stanford.edu/software/CRF-NER.shtml#Download\n",
    "# It's 171mb so I've added to the gitignore\n",
    "# If you download it, and rename the folder name \"stanford\" in the main directory\n",
    "classifier = './stanford/classifiers/english.all.3class.distsim.crf.ser.gz'\n",
    "jar = './stanford/stanford-ner.jar'\n",
    "\n",
    "sTagger = StanfordNERTagger(classifier,jar)"
   ]
  },
  {
   "cell_type": "code",
   "execution_count": 7,
   "metadata": {
    "collapsed": true
   },
   "outputs": [],
   "source": [
    "import pickle # Useful for read / write of list file\n",
    "import os #Needed to check if file exists"
   ]
  },
  {
   "cell_type": "code",
   "execution_count": 8,
   "metadata": {
    "collapsed": true
   },
   "outputs": [],
   "source": [
    "# Lets store the stanford tagger output in a file\n",
    "# This function returns the tagging output of stanford for each dataset\n",
    "# with datasetName - 'train', 'dev', test' \n",
    "\n",
    "def getStanfordTagging(datasetName):\n",
    "    fnameTrain = './preCompTags/stanfordTaggedTrain.txt'\n",
    "    fnameDev = './preCompTags/stanfordTaggedDev.txt'\n",
    "    fnameTest = './preCompTags/stanfordTaggedTest.txt'\n",
    "    \n",
    "    theFilePath = ''\n",
    "    theSents = []\n",
    "    if (datasetName == 'train'):\n",
    "        theFilePath = fnameTrain\n",
    "        theSents = trainSents\n",
    "    elif (datasetName == 'dev'):\n",
    "        theFilePath = fnameDev\n",
    "        theSents = devSents\n",
    "    elif (datasetName == 'test'):\n",
    "        theFilePath = fnameTest\n",
    "        theSents = testSents\n",
    "    else :\n",
    "        raise ValueError('Incorrect datasetName: ' + datasetName + ', choose from - \"train\", \"dev\", \"test\" ') \n",
    "    if (os.path.exists(theFilePath)):\n",
    "        with open(theFilePath, \"rb\") as fp:\n",
    "            stanfordTags = pickle.load(fp)\n",
    "            return stanfordTags\n",
    "    \n",
    "    else :\n",
    "        #Need to create taggings!\n",
    "        taggedSentsList = []\n",
    "        for sents in theSents:\n",
    "            tokenisedSents = [word_tokenize(sent) for sent in sents]\n",
    "            classifiedSents = sTagger.tag_sents(tokenisedSents)\n",
    "            taggedSentsList.append(classifiedSents)\n",
    "        #And save them\n",
    "        with open(theFilePath, \"wb\") as fp: \n",
    "            pickle.dump(taggedSentsList, fp)\n",
    "        return taggedSentsList\n",
    "    "
   ]
  },
  {
   "cell_type": "code",
   "execution_count": 9,
   "metadata": {
    "collapsed": true
   },
   "outputs": [],
   "source": [
    "taggedTrain = getStanfordTagging('train')\n",
    "taggedDev = getStanfordTagging('dev')\n",
    "taggedTest = getStanfordTagging('test')"
   ]
  },
  {
   "cell_type": "code",
   "execution_count": 10,
   "metadata": {
    "collapsed": true
   },
   "outputs": [],
   "source": [
    "import re\n",
    "from nltk.corpus import stopwords\n",
    "\n",
    "stop_words = set(stopwords.words('english'))\n",
    "\n",
    "\n",
    "# Given a stanford tagged list, refines the list by:\\n\",\n",
    "# Grouping all contiguous words with the same tag\\n\",\n",
    "# Relabels Organisations as Other\\n\",\n",
    "# Labels Number\\n\",\n",
    "def refineWordTags(taggedWordList):\n",
    "    newWordTags = []\n",
    "    for (word, tag) in taggedWordList:\n",
    "        if (tag == 'ORGANIZATION'):\n",
    "            tag = 'O'\n",
    "        if (tag == 'O'):\n",
    "            #Might be a number\n",
    "            if isNumber(word):\n",
    "                tag = 'NUMBER'\n",
    "            elif isCapitalised(word):\n",
    "                tag = 'OTHERCAP'\n",
    "            elif word in preUnits:\n",
    "                tag = 'PRENUM'\n",
    "            elif word in postUnits:\n",
    "                tag = 'POSTNUM'\n",
    "            elif isStopWord(word):\n",
    "                tag = 'STOPWORD'\n",
    "            elif isPunctuation(word):\n",
    "                tag = 'PUNC'\n",
    "\n",
    "        newWordTags.append((word, tag))\n",
    "    \n",
    "    newWordTags = combineTags (newWordTags)\n",
    "    return newWordTags\n",
    "        \n",
    "def combineTags(wordTags):\n",
    "    newTags = []\n",
    "    prevWord = wordTags[0][0]\n",
    "    prevTag = wordTags[0][1]\n",
    "    for (word, tag) in wordTags[1:]:\n",
    "        if tag == 'NUMBER' and prevTag == 'PRENUM':\n",
    "            prevTag = 'NUMBER'\n",
    "        elif prevTag == 'PRENUM':\n",
    "            prevTag = 'O'\n",
    "        if tag == 'POSTNUM' and prevTag == \"NUMBER\":\n",
    "            tag = \"NUMBER\"\n",
    "        elif tag == \"POSTNUM\":\n",
    "            tag = \"O\"\n",
    "        newTags.append((prevWord, prevTag))\n",
    "        prevWord = word\n",
    "        prevTag = tag\n",
    "    newTags.append((prevWord, prevTag))\n",
    "    \n",
    "    newNewTags = []\n",
    "    prevWord = newTags[0][0]\n",
    "    prevTag = newTags[0][1]\n",
    "    if (prevTag == \"OTHERCAP\"):\n",
    "        prevTag = \"O\"\n",
    "    for (word, tag) in wordTags[1:]:            \n",
    "        if tag == prevTag :\n",
    "            prevWord += ' ' + word\n",
    "        else :\n",
    "            newNewTags.append((prevWord, prevTag))\n",
    "            prevWord = word\n",
    "            prevTag = tag\n",
    "    newNewTags.append((prevWord, prevTag))\n",
    "    return newNewTags\n",
    "\n",
    "# Thanks for this list to save me typing it : http://stackoverflow.com/questions/493174/is-there-a-way-to-convert-number-words-to-integers\\n\",\n",
    "numInWords = [\"zero\", \"one\", \"two\", \"three\", \"four\", \"five\", \"six\", \"seven\", \"eight\",\n",
    "        \"nine\", \"ten\", \"eleven\", \"twelve\", \"thirteen\", \"fourteen\", \"fifteen\",\n",
    "        \"sixteen\", \"seventeen\", \"eighteen\", \"nineteen\", \"twenty\", \"thirty\", \"forty\", \"fifty\", \"sixty\", \"seventy\", \"eighty\", \"ninety\"\n",
    "       , \"hundred\", \"thousand\", \"million\", \"billion\", \"trillion\"]\n",
    "\n",
    "punctuation = ['.',',',';',':']\n",
    "\n",
    "def isPunctuation(word):\n",
    "    return word in punctuation\n",
    "def isCapitalised (word):\n",
    "    if len(word) == 0:\n",
    "        return False\n",
    "    return word[0].isupper()\n",
    "\n",
    "# Obtained from training data\n",
    "postUnits = [u'%', u'century', u'years', u'percent', u'years ago', u'days', u'months', u'km', u'hours', u'times', u'inches', u'\\xb0C', u'minutes', u'acres', u'\\xb0F', u'weeks', u'people', u'sq mi', u'mi', u'ft', u'feet', u'metres', u'mm', u'square miles', u'miles', u'pm', u'per cent', u'year', u'copies', u'yuan', u'men', u'square feet', u'third', u'kilometres', u'nm', u'tonnes', u'species', u'decades', u'barrels', u'tons', u'largest', u'centuries', u'km2']\n",
    "preUnits = [u'$', u'around', u'late', u'early', u'nearly', u'since', u'approximately', u'number']\n",
    "\n",
    "# Returns true if the word represents a number\\n\",\n",
    "def isNumber(word):\n",
    "    pattern = \".?(\\\\d)+((,|.)(\\\\d)+)*\"\n",
    "    if re.match(pattern,word) :\n",
    "        return True\n",
    "    if word.lower() in numInWords:\n",
    "        return True\n",
    "    return False\n",
    "\n",
    "def isStopWord(word):\n",
    "    return word.lower() in stop_words\n"
   ]
  },
  {
   "cell_type": "code",
   "execution_count": null,
   "metadata": {
    "collapsed": true
   },
   "outputs": [],
   "source": [
    "# For each question, evaluate if the answer is present as an entity\n",
    "\n",
    "def evaluateNER():\n",
    "    correct = []\n",
    "    wrong = []\n",
    "    for (doc, questID, sentID) in partACorrect:\n",
    "        answer = dev[doc][questID][\"answer\"]\n",
    "        possAnswers = refineWordTags(taggedDev[doc][sentID])        \n",
    "        inThere = False\n",
    "        for possAnswer in possAnswers:\n",
    "            if possAnswer[0] == answer:\n",
    "                inThere = True\n",
    "                break\n",
    "        if inThere:\n",
    "            correct.append((doc,sentID,answer, possAnswers))\n",
    "        else :\n",
    "            wrong.append((doc,sentID, answer, possAnswers))\n",
    "    return (correct, wrong)\n"
   ]
  },
  {
   "cell_type": "markdown",
   "metadata": {},
   "source": [
    "## Derek part"
   ]
  },
  {
   "cell_type": "code",
   "execution_count": 11,
   "metadata": {
    "collapsed": true
   },
   "outputs": [],
   "source": [
    "def detect_openclass_word(sameword_list):\n",
    "    tagged_text = nltk.pos_tag(sameword_list)\n",
    "    is_noun = lambda pos: pos[:2] == 'NN'\n",
    "    is_verb = lambda pos: pos[:2] == 'VB'\n",
    "    \n",
    "    nouns = [word for (word, pos) in tagged_text if is_noun(pos)] \n",
    "    verbs = [word for (word, pos) in tagged_text if is_verb(pos)] \n",
    "    return nouns+verbs"
   ]
  },
  {
   "cell_type": "code",
   "execution_count": 12,
   "metadata": {
    "collapsed": true
   },
   "outputs": [],
   "source": [
    "# Given a question, returns a tag for the answer form\n",
    "# From PERSON, LOCATION, NUMBER, OTHER \n",
    "# Assuming question is lowercased\n",
    "def getQuestionType(question):\n",
    "    if 'Who' in question:\n",
    "        return \"PERSON\"\n",
    "    if 'where' in question:\n",
    "        return \"LOCATION\"\n",
    "    if 'How many' in question:\n",
    "        return \"NUMBER\"\n",
    "    if 'How much' in question:\n",
    "        return \"NUMBER\"\n",
    "    if 'When' in question:\n",
    "        return \"NUMBER\"\n",
    "    if 'what year' in question:\n",
    "        return \"NUMBER\"\n",
    "    if 'What year' in question:\n",
    "        return \"NUMBER\"\n",
    "    else:\n",
    "        return \"O\""
   ]
  },
  {
   "cell_type": "code",
   "execution_count": 13,
   "metadata": {
    "collapsed": true
   },
   "outputs": [],
   "source": [
    "#remove the non-word entities from answer-entities\n",
    "def process_answer_entities(anwser_entities):\n",
    "    new_anwser_entities =[]\n",
    "    for (entity,entity_type) in anwser_entities:\n",
    "        tokenized_entity = word_tokenize(entity)\n",
    "        #print tokenized_entity\n",
    "        temp = []\n",
    "        for ele in tokenized_entity:\n",
    "            if ele not in non_words:\n",
    "                temp.append(ele)\n",
    "        temp = ' '.join(temp)\n",
    "        new_anwser_entities.append((temp,entity_type))\n",
    "    return new_anwser_entities      \n"
   ]
  },
  {
   "cell_type": "code",
   "execution_count": 14,
   "metadata": {
    "collapsed": true
   },
   "outputs": [],
   "source": [
    "\n",
    "#first:  whose anwsers all appear in the questions rank the lowest\n",
    "#assumption: input question in its dictionary value\n",
    "from string import punctuation  \n",
    "non_words = list(punctuation)\n",
    "\n",
    "def first_filter(question, anwser_entities):\n",
    "    ranking_dict_1 = {}\n",
    "    ranking_list = []\n",
    "    merge_list = []\n",
    "    answer_entities_list = []\n",
    "    anwser_entities = process_answer_entities(anwser_entities)\n",
    "    \n",
    "    for entity in anwser_entities:\n",
    "        answer_entities_list.append(entity[0])\n",
    "        if entity[0] in question:\n",
    "            if entity[0].lower() not in stop_words and entity[0]!='' and entity[0].lower() not in non_words:\n",
    "                #print entity[0]\n",
    "                merge_list.append(entity[0])\n",
    "        else:\n",
    "            if entity[0].lower() not in stop_words and entity[0]!='' and entity[0].lower() not in non_words:\n",
    "                ranking_list.append(entity)\n",
    "                \n",
    "    #get rid of the not noun phrases   \n",
    "    #print merge_list\n",
    "    final_merge_list = []\n",
    "    for phrase in merge_list:\n",
    "        tokenized_phrase = word_tokenize(phrase)\n",
    "        for word in tokenized_phrase:\n",
    "            if word not in stop_words and word.lower() not in non_words:\n",
    "                #print phrase\n",
    "                final_merge_list.append(phrase)\n",
    "                \n",
    "    final_ranking_list = []            \n",
    "    for entity in ranking_list:\n",
    "        if entity[1] != 'STOPWORD':\n",
    "            final_ranking_list.append(entity)\n",
    "    \n",
    "    #detect the open-class word in here for easier process            \n",
    "    final_merge_list = set(detect_openclass_word(final_merge_list))\n",
    "    ranking_dict_1[\"ranking_list\"] = final_ranking_list\n",
    "    ranking_dict_1[\"same_word_list\"] = final_merge_list\n",
    "    ranking_dict_1[\"answer_entities_list\"] = answer_entities_list\n",
    "    return ranking_dict_1\n"
   ]
  },
  {
   "cell_type": "code",
   "execution_count": 16,
   "metadata": {
    "collapsed": false
   },
   "outputs": [],
   "source": [
    "\n",
    "#second: answers which match the question type should be ranked higher than those that dont\n",
    "\n",
    "#assumption: save questions' type in the dictionary format quesiton1 = \n",
    "#{u'answer': u'long playing',u'answer_sentence': 2, u'question':......., 'question_type:'PERSON'}\n",
    "\n",
    "def second_filter(question, ranking_dict_1):\n",
    "    question_with_type ={}\n",
    "    question_with_type['question_type']= getQuestionType(question)\n",
    "    question_with_type['question'] = question\n",
    "    #print question_with_type\n",
    "    ranking_dict_2 = {}\n",
    "    ranking_list =[]\n",
    "    merge_list = []\n",
    "    for entity in ranking_dict_1[\"ranking_list\"]:\n",
    "        if question_with_type['question_type'] == 'O':\n",
    "            ranking_list.append(entity[0])\n",
    "        else:\n",
    "            if entity[1] == question_with_type['question_type']:\n",
    "                ranking_list.append(entity[0])\n",
    "            else:\n",
    "                merge_list.append(entity[0])\n",
    "    ranking_dict_2[\"same_word_list\"] = ranking_dict_1[\"same_word_list\"]\n",
    "    ranking_dict_2[\"ranking_list\"] = ranking_list\n",
    "    ranking_dict_2[\"Other_tags_list\"] = merge_list\n",
    "    ranking_dict_2[\"answer_entities_list\"] = ranking_dict_1[\"answer_entities_list\"]\n",
    "    return ranking_dict_2\n",
    "    "
   ]
  },
  {
   "cell_type": "code",
   "execution_count": 17,
   "metadata": {
    "collapsed": true
   },
   "outputs": [],
   "source": [
    "\n",
    "#Thrid: based on second, the prefered entity should be the one which is close in \n",
    "#the sentence to a closed-class word form the question\n",
    "from collections import OrderedDict\n",
    "\n",
    "def cal_distance_words(entity,same_words, anwser_entities):\n",
    "    temp = 0\n",
    "    for same_word in same_words:\n",
    "        temp += abs(anwser_entities.index(entity) - anwser_entities.index(same_word))\n",
    "    return float(temp)/float(len(same_words))\n",
    "\n",
    "def sort_orderedDict(orderdict):\n",
    "    return OrderedDict(sorted(orderdict.items(), key = lambda x:x[1], reverse = False))\n",
    "        \n",
    "\n",
    "def third_filter(question,second_filter,anwser_entities):\n",
    "    dict_ranking ={}\n",
    "    if (len(second_filter[\"same_word_list\"])==0):\n",
    "        if len(second_filter['ranking_list']) != 0:\n",
    "            return second_filter['ranking_list'][0]\n",
    "        else:\n",
    "            return second_filter[\"Other_tags_list\"][0]\n",
    "            #for entity in second_filter[\"Other_tags_list\"]:\n",
    "                #dict_ranking[entity]= cal_distance_words(entity, second_filter[\"same_word_list\"],anwser_entities)\n",
    "            #dict_ranking = sort_orderedDict(dict_ranking)\n",
    "            #if len(dict_ranking.items()) ==0:\n",
    "                #return 0\n",
    "            #else:\n",
    "            #return dict_ranking.items()[0][0]\n",
    "    else:\n",
    "        #if len(second_filter['ranking_list']) != 0:\n",
    "        for entity in second_filter[\"ranking_list\"]:\n",
    "            dict_ranking[entity]= cal_distance_words(entity, second_filter[\"same_word_list\"],anwser_entities)\n",
    "        #else:\n",
    "            #if len(second_filter[\"Other_tags_list\"]) !=0:\n",
    "                #for entity in second_filter[\"Other_tags_list\"]:\n",
    "                    #dict_ranking[entity]= cal_distance_words(entity, second_filter[\"same_word_list\"],anwser_entities)\n",
    "            #print dict_ranking\n",
    "            #else:\n",
    "                #return 0\n",
    "        dict_ranking = sort_orderedDict(dict_ranking)\n",
    "            #print dict_ranking\n",
    "        if len(dict_ranking.items()) ==0:\n",
    "            return 0\n",
    "        else:\n",
    "            return dict_ranking.items()[0][0]\n"
   ]
  },
  {
   "cell_type": "markdown",
   "metadata": {},
   "source": [
    "## Evaluation"
   ]
  },
  {
   "cell_type": "code",
   "execution_count": 18,
   "metadata": {
    "collapsed": true
   },
   "outputs": [],
   "source": [
    "# For each question, evaluate if the answer is present as an entity\n",
    "\n",
    "def evaluateNER():\n",
    "    correct = []\n",
    "    wrong = []\n",
    "    for (doc, questID, sentID) in partACorrect:\n",
    "        answer = dev[doc][questID][\"answer\"]\n",
    "        possAnswers = refineWordTags(taggedDev[doc][sentID])        \n",
    "        inThere = False\n",
    "        for possAnswer in possAnswers:\n",
    "            if possAnswer[0] == answer:\n",
    "                inThere = True\n",
    "                break\n",
    "        if inThere:\n",
    "            correct.append((doc,sentID,answer, possAnswers))\n",
    "        else :\n",
    "            wrong.append((doc,sentID, answer, possAnswers))\n",
    "    return (correct, wrong)\n"
   ]
  },
  {
   "cell_type": "code",
   "execution_count": 26,
   "metadata": {
    "collapsed": false
   },
   "outputs": [
    {
     "name": "stdout",
     "output_type": "stream",
     "text": [
      "(0, 3, u'Infrared thermal-imaging cameras', [(u'Infrared thermal-imaging cameras', 'O'), (u'are', 'STOPWORD'), (u'used', u'O'), (u'to', 'STOPWORD'), (u'detect heat loss', u'O'), (u'in', 'STOPWORD'), (u'insulated systems', u'O'), (u',', 'PUNC'), (u'to', 'STOPWORD'), (u'observe changing blood flow', u'O'), (u'in the', 'STOPWORD'), (u'skin', u'O'), (u',', 'PUNC'), (u'and to', 'STOPWORD'), (u'detect overheating', u'O'), (u'of', 'STOPWORD'), (u'electrical apparatus', u'O'), (u'.', 'PUNC')])\n"
     ]
    }
   ],
   "source": [
    "(nerCorrectList, nerWrongList) = evaluateNER()\n",
    "print nerCorrectList[0]"
   ]
  },
  {
   "cell_type": "code",
   "execution_count": 28,
   "metadata": {
    "collapsed": true
   },
   "outputs": [],
   "source": [
    "# For each question, evaluate if the answer is present as an entity\n",
    "\n",
    "def evaluateAnswerRanking(questionsList,documentsList, numToEval):\n",
    "    correct = []\n",
    "    wrong = []\n",
    "    (corNER, wrongNER) = evaluateNER()\n",
    "    entityListsWithAnswer = corNER\n",
    "    for (i,j,something_not_sure,possAnswers) in entityListsWithAnswer:\n",
    "        question = questionsList[i][j][\"question\"]\n",
    "        answer =  questionsList[i][j][\"answer\"]\n",
    "        #print question\n",
    "        #print possAnswers\n",
    "        #print answer\n",
    "        answerPredicited = third_filter(question,second_filter(question,first_filter(question, possAnswers)),second_filter(question,first_filter(question, possAnswers))['answer_entities_list']) \n",
    "        #print answerPredicited\n",
    "        #print '%%%%%%%%%%%%%%%%%%%%%%%%%%%%%%%%%%%%%%'\n",
    "        # TODO add Dereks part here\n",
    "        if (answerPredicited == answer):\n",
    "            correct.append((i,j))\n",
    "        else :\n",
    "            wrong.append((i,j,answerPredicited))\n",
    "        #print correct\n",
    "    return (correct, wrong)\n",
    "    "
   ]
  },
  {
   "cell_type": "code",
   "execution_count": 29,
   "metadata": {
    "collapsed": false
   },
   "outputs": [
    {
     "ename": "IndexError",
     "evalue": "list index out of range",
     "output_type": "error",
     "traceback": [
      "\u001b[0;31m---------------------------------------------------------------------------\u001b[0m",
      "\u001b[0;31mIndexError\u001b[0m                                Traceback (most recent call last)",
      "\u001b[0;32m<ipython-input-29-c9eb44d1d380>\u001b[0m in \u001b[0;36m<module>\u001b[0;34m()\u001b[0m\n\u001b[0;32m----> 1\u001b[0;31m \u001b[0;34m(\u001b[0m\u001b[0mcorAns\u001b[0m\u001b[0;34m,\u001b[0m \u001b[0mwrongAns\u001b[0m\u001b[0;34m)\u001b[0m \u001b[0;34m=\u001b[0m \u001b[0mevaluateAnswerRanking\u001b[0m\u001b[0;34m(\u001b[0m\u001b[0mdev\u001b[0m\u001b[0;34m,\u001b[0m \u001b[0mdevSents\u001b[0m\u001b[0;34m,\u001b[0m\u001b[0mlen\u001b[0m\u001b[0;34m(\u001b[0m\u001b[0mdev\u001b[0m\u001b[0;34m)\u001b[0m\u001b[0;34m)\u001b[0m\u001b[0;34m\u001b[0m\u001b[0m\n\u001b[0m\u001b[1;32m      2\u001b[0m \u001b[0;32mprint\u001b[0m\u001b[0;34m(\u001b[0m\u001b[0;34m\"Number Correct : \"\u001b[0m \u001b[0;34m+\u001b[0m \u001b[0mstr\u001b[0m\u001b[0;34m(\u001b[0m\u001b[0mlen\u001b[0m\u001b[0;34m(\u001b[0m\u001b[0mcorAns\u001b[0m\u001b[0;34m)\u001b[0m\u001b[0;34m)\u001b[0m\u001b[0;34m)\u001b[0m\u001b[0;34m\u001b[0m\u001b[0m\n\u001b[1;32m      3\u001b[0m \u001b[0;32mprint\u001b[0m\u001b[0;34m(\u001b[0m\u001b[0;34m\"Number incorrect: \"\u001b[0m \u001b[0;34m+\u001b[0m \u001b[0mstr\u001b[0m\u001b[0;34m(\u001b[0m\u001b[0mlen\u001b[0m\u001b[0;34m(\u001b[0m\u001b[0mwrongAns\u001b[0m\u001b[0;34m)\u001b[0m\u001b[0;34m)\u001b[0m\u001b[0;34m)\u001b[0m\u001b[0;34m\u001b[0m\u001b[0m\n\u001b[1;32m      4\u001b[0m \u001b[0;32mprint\u001b[0m \u001b[0;34m(\u001b[0m\u001b[0;34m\"Average correct : \"\u001b[0m \u001b[0;34m+\u001b[0m \u001b[0mstr\u001b[0m\u001b[0;34m(\u001b[0m\u001b[0;34m(\u001b[0m\u001b[0mlen\u001b[0m\u001b[0;34m(\u001b[0m\u001b[0mcorAns\u001b[0m\u001b[0;34m)\u001b[0m \u001b[0;34m+\u001b[0m \u001b[0;36m0.0\u001b[0m\u001b[0;34m)\u001b[0m \u001b[0;34m/\u001b[0m \u001b[0;34m(\u001b[0m\u001b[0mlen\u001b[0m\u001b[0;34m(\u001b[0m\u001b[0mcorAns\u001b[0m\u001b[0;34m)\u001b[0m\u001b[0;34m+\u001b[0m\u001b[0mlen\u001b[0m\u001b[0;34m(\u001b[0m\u001b[0mwrongAns\u001b[0m\u001b[0;34m)\u001b[0m\u001b[0;34m)\u001b[0m\u001b[0;34m)\u001b[0m\u001b[0;34m)\u001b[0m\u001b[0;34m\u001b[0m\u001b[0m\n",
      "\u001b[0;32m<ipython-input-28-a72bb2b0c484>\u001b[0m in \u001b[0;36mevaluateAnswerRanking\u001b[0;34m(questionsList, documentsList, numToEval)\u001b[0m\n\u001b[1;32m      7\u001b[0m     \u001b[0mentityListsWithAnswer\u001b[0m \u001b[0;34m=\u001b[0m \u001b[0mcorNER\u001b[0m\u001b[0;34m\u001b[0m\u001b[0m\n\u001b[1;32m      8\u001b[0m     \u001b[0;32mfor\u001b[0m \u001b[0;34m(\u001b[0m\u001b[0mi\u001b[0m\u001b[0;34m,\u001b[0m\u001b[0mj\u001b[0m\u001b[0;34m,\u001b[0m\u001b[0msomething_not_sure\u001b[0m\u001b[0;34m,\u001b[0m\u001b[0mpossAnswers\u001b[0m\u001b[0;34m)\u001b[0m \u001b[0;32min\u001b[0m \u001b[0mentityListsWithAnswer\u001b[0m\u001b[0;34m:\u001b[0m\u001b[0;34m\u001b[0m\u001b[0m\n\u001b[0;32m----> 9\u001b[0;31m         \u001b[0mquestion\u001b[0m \u001b[0;34m=\u001b[0m \u001b[0mquestionsList\u001b[0m\u001b[0;34m[\u001b[0m\u001b[0mi\u001b[0m\u001b[0;34m]\u001b[0m\u001b[0;34m[\u001b[0m\u001b[0mj\u001b[0m\u001b[0;34m]\u001b[0m\u001b[0;34m[\u001b[0m\u001b[0;34m\"question\"\u001b[0m\u001b[0;34m]\u001b[0m\u001b[0;34m\u001b[0m\u001b[0m\n\u001b[0m\u001b[1;32m     10\u001b[0m         \u001b[0manswer\u001b[0m \u001b[0;34m=\u001b[0m  \u001b[0mquestionsList\u001b[0m\u001b[0;34m[\u001b[0m\u001b[0mi\u001b[0m\u001b[0;34m]\u001b[0m\u001b[0;34m[\u001b[0m\u001b[0mj\u001b[0m\u001b[0;34m]\u001b[0m\u001b[0;34m[\u001b[0m\u001b[0;34m\"answer\"\u001b[0m\u001b[0;34m]\u001b[0m\u001b[0;34m\u001b[0m\u001b[0m\n\u001b[1;32m     11\u001b[0m         \u001b[0;31m#print question\u001b[0m\u001b[0;34m\u001b[0m\u001b[0;34m\u001b[0m\u001b[0m\n",
      "\u001b[0;31mIndexError\u001b[0m: list index out of range"
     ]
    }
   ],
   "source": [
    "(corAns, wrongAns) = evaluateAnswerRanking(dev, devSents,len(dev))\n",
    "print(\"Number Correct : \" + str(len(corAns)))\n",
    "print(\"Number incorrect: \" + str(len(wrongAns)))\n",
    "print (\"Average correct : \" + str((len(corAns) + 0.0) / (len(corAns)+len(wrongAns))))"
   ]
  },
  {
   "cell_type": "markdown",
   "metadata": {},
   "source": [
    "## Derek submission"
   ]
  },
  {
   "cell_type": "code",
   "execution_count": null,
   "metadata": {
    "collapsed": true
   },
   "outputs": [],
   "source": [
    "# Demonstration function\n",
    "\n",
    "def process_set(questions, documents):\n",
    "    vector_documents, vectorizer = vectorize_documents(documents)\n",
    "    analyze = vectorizer.build_analyzer()\n",
    "    neighbours = process_neighbours(vector_documents)\n",
    "    \n",
    "    joshi_list = []\n",
    "    for question in questions:\n",
    "        joshi_dict = {}\n",
    "        text_query = question[\"question\"]\n",
    "        vector_query = vectorize_query(vectorizer, text_query)\n",
    "        result_distance, result_index  = closest_document(neighbours, vector_query)\n",
    "        \n",
    "        joshi_dict[\"query\"] = text_query\n",
    "        joshi_dict[\"answer_sentence\"] =documents[result_index].encode(\"utf-8\")\n",
    "        joshi_dict[\"index\"]=result_index\n",
    "        joshi_list.append(joshi_dict)\n",
    "    return joshi_list"
   ]
  }
 ],
 "metadata": {
  "kernelspec": {
   "display_name": "Python [Root]",
   "language": "python",
   "name": "Python [Root]"
  },
  "language_info": {
   "codemirror_mode": {
    "name": "ipython",
    "version": 2
   },
   "file_extension": ".py",
   "mimetype": "text/x-python",
   "name": "python",
   "nbconvert_exporter": "python",
   "pygments_lexer": "ipython2",
   "version": "2.7.12"
  }
 },
 "nbformat": 4,
 "nbformat_minor": 0
}
