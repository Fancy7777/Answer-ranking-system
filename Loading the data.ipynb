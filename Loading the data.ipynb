{
 "cells": [
  {
   "cell_type": "code",
   "execution_count": 1,
   "metadata": {
    "collapsed": true
   },
   "outputs": [],
   "source": [
    "import json\n",
    "\n",
    "trainJson =open('./QA_train.json').read()\n",
    "devJson = open('./QA_dev.json').read();\n",
    "testJson = open('./QA_test.json').read();\n",
    "\n",
    "trainData = json.loads(trainJson)\n",
    "devData = json.loads(devJson)\n",
    "testData = json.loads(testJson)"
   ]
  },
  {
   "cell_type": "code",
   "execution_count": 2,
   "metadata": {
    "collapsed": false
   },
   "outputs": [],
   "source": [
    "# Lets get the data into a nicer format:\n",
    "def changeToList(dataset):\n",
    "    listOfQAs = []\n",
    "    for qa in dataset:\n",
    "        qList = qa[\"qa\"]\n",
    "        QAs = []\n",
    "        for q in qList:\n",
    "            QAs.append(q)\n",
    "        listOfQAs.append(QAs)\n",
    "    return listOfQAs\n",
    "\n",
    "train = changeToList(trainData)\n",
    "dev = changeToList(devData)\n",
    "test = changeToList(testData)\n",
    "\n",
    "# We have the questions, lets get the sentences:\n",
    "\n",
    "def getSentList(dataset):\n",
    "    listOfSentLists = []\n",
    "    for qa in dataset:\n",
    "        listOfSentLists.append(qa[\"sentences\"])\n",
    "    return listOfSentLists\n",
    "        \n",
    "trainSents = getSentList(trainData)\n",
    "devSents = getSentList(devData)\n",
    "testSents = getSentList(testData)"
   ]
  },
  {
   "cell_type": "markdown",
   "metadata": {
    "collapsed": false
   },
   "source": [
    "There are 70159 training QA pairs, 8463 in dev, 8974 in test"
   ]
  }
 ],
 "metadata": {
  "anaconda-cloud": {},
  "kernelspec": {
   "display_name": "Python [py27]",
   "language": "python",
   "name": "Python [py27]"
  },
  "language_info": {
   "codemirror_mode": {
    "name": "ipython",
    "version": 2
   },
   "file_extension": ".py",
   "mimetype": "text/x-python",
   "name": "python",
   "nbconvert_exporter": "python",
   "pygments_lexer": "ipython2",
   "version": "2.7.12"
  }
 },
 "nbformat": 4,
 "nbformat_minor": 2
}
